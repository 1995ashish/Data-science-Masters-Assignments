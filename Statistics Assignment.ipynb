{
 "cells": [
  {
   "cell_type": "markdown",
   "id": "6b722a2c-641c-4905-ba90-b23809a25113",
   "metadata": {
    "tags": []
   },
   "source": [
    "<h4>\n",
    "Q1. What are the three measures of central tendency?"
   ]
  },
  {
   "cell_type": "markdown",
   "id": "ce58e89c-6405-4ab7-b5bd-2197c94d9303",
   "metadata": {},
   "source": [
    "Answer: There are three main measures of central tendency: \n",
    "\n",
    ">1). mode. \n",
    "\n",
    ">2). median. \n",
    "\n",
    ">3). mean.\n"
   ]
  },
  {
   "cell_type": "markdown",
   "id": "02b81878-1da2-4642-b7fd-e4d0786057a9",
   "metadata": {},
   "source": [
    "<h4> Q2. What is the difference between the mean, median, and mode? How are they used to measure the\n",
    "central tendency of a dataset?"
   ]
  },
  {
   "cell_type": "markdown",
   "id": "26e9ff1f-4ec4-48b9-b8d3-f609b5a46708",
   "metadata": {},
   "source": [
    "Answer: The difference between mean, median and mode are:\n",
    "\n",
    "*Mean is the average value of the given observations.\n",
    "\n",
    "*Median is the middle value of the given observations.\n",
    "\n",
    "*Mode is the most repeated value in the given observation.\n",
    "\n",
    "The central tendency measure is defined as the number used to represent the center or middle of a set of data values.hence the mode, median and mean can be used to measure the centeral tendency."
   ]
  },
  {
   "cell_type": "markdown",
   "id": "3a7cc804-72f6-4ad0-82c4-8d617de92241",
   "metadata": {},
   "source": [
    "<h4> Q3. Measure the three measures of central tendency for the given height data:\n",
    "[178,177,176,177,178.2,178,175,179,180,175,178.9,176.2,177,172.5,178,176.5]"
   ]
  },
  {
   "cell_type": "markdown",
   "id": "57cdd8b1-e14e-4e16-a1fb-dac40f706ae2",
   "metadata": {},
   "source": [
    "Answer:"
   ]
  },
  {
   "cell_type": "code",
   "execution_count": 16,
   "id": "f27ec90c-ae38-4ce5-9c08-d92d995503b3",
   "metadata": {},
   "outputs": [
    {
     "name": "stdout",
     "output_type": "stream",
     "text": [
      "Mean= 177.01875\n",
      "Median= 177.0\n",
      "Mode= 178\n"
     ]
    }
   ],
   "source": [
    "from statistics import mean, median, mode\n",
    "\n",
    "height=[178,177,176,177,178.2,178,175,179,180,175,178.9,176.2,177,172.5,178,176.5]\n",
    "Mean= mean(height)\n",
    "Median= median(height)\n",
    "Mode= mode(height)\n",
    "\n",
    "print(\"Mean=\", Mean)\n",
    "print(\"Median=\", Median)\n",
    "print(\"Mode=\", Mode)"
   ]
  },
  {
   "cell_type": "markdown",
   "id": "6cc973ad-9711-4e96-afe5-e428314787cc",
   "metadata": {},
   "source": [
    "<h4> Q4. Find the standard deviation for the given data:\n",
    "[178,177,176,177,178.2,178,175,179,180,175,178.9,176.2,177,172.5,178,176.5]"
   ]
  },
  {
   "cell_type": "markdown",
   "id": "9a711c63-ee4c-4751-a3c2-b2adbb114b23",
   "metadata": {},
   "source": [
    "Answer:"
   ]
  },
  {
   "cell_type": "code",
   "execution_count": 24,
   "id": "c7e437ac-8946-4415-9bc0-a22b73c8e4d5",
   "metadata": {},
   "outputs": [
    {
     "name": "stdout",
     "output_type": "stream",
     "text": [
      "Standard deviation is 1.8472389305844188\n"
     ]
    }
   ],
   "source": [
    "from statistics import stdev\n",
    "data=[178,177,176,177,178.2,178,175,179,180,175,178.9,176.2,177,172.5,178,176.5]\n",
    "Stdev= stdev(data)\n",
    "print(\"Standard deviation is\",Stdev)"
   ]
  },
  {
   "cell_type": "markdown",
   "id": "7fb1135e-1863-4291-9d4c-151375033fbf",
   "metadata": {},
   "source": [
    "<h4> Q5. How are measures of dispersion such as range, variance, and standard deviation used to describe\n",
    "the spread of a dataset? Provide an example."
   ]
  },
  {
   "cell_type": "markdown",
   "id": "12d8f8dd-5737-4c55-96c7-2d46673b8b5b",
   "metadata": {},
   "source": [
    "Answer:"
   ]
  },
  {
   "cell_type": "markdown",
   "id": "f088817c-d8ba-4e15-8cd5-a6e0f44aee62",
   "metadata": {},
   "source": [
    "In statistics, the measures of dispersion help to interpret the variability of data i.e. to know how much homogenous or heterogeneous the data is. In simple terms, it shows how squeezed or scattered the variable is.\n",
    "\n",
    "The types of measures of dispersion are:\n",
    "\n",
    ">* Range: It is simply the difference between the maximum value and the minimum value given in a data set. Example: 1, 3,5, 6, 7 => Range = 7 -1= 6\n",
    "\n",
    ">* Variance: Deduct the mean from each data in the set, square each of them and add each square and finally divide them by the total no of values in the data set to get the variance. Variance (σ2) = ∑(X−μ)2/N\n",
    "\n",
    ">* Standard Deviation: The square root of the variance is known as the standard deviation i.e. S.D. = √σ."
   ]
  },
  {
   "cell_type": "markdown",
   "id": "aaf7a520-f25b-42cb-b315-198c0296339d",
   "metadata": {},
   "source": [
    "<h4> Q6. What is a Venn diagram?"
   ]
  },
  {
   "cell_type": "markdown",
   "id": "c58de8f7-4564-40fd-967f-806cdfc52567",
   "metadata": {},
   "source": [
    "Answer: A Venn diagram uses overlapping circles or other shapes to illustrate the logical relationships between two or more sets of items."
   ]
  },
  {
   "cell_type": "markdown",
   "id": "d09357c4-efeb-41e6-b6ab-35396c859d96",
   "metadata": {},
   "source": [
    "<h4> Q7. For the two given sets A = (2,3,4,5,6,7) & B = (0,2,6,8,10).\n",
    "    \n",
    "Find:  \n",
    "    \n",
    "(i)  A ⋂ B\n",
    "    \n",
    "(ii) A ⋃ B"
   ]
  },
  {
   "cell_type": "markdown",
   "id": "50ce4d34-6dde-4264-a6df-03067ec361e6",
   "metadata": {},
   "source": [
    "Answer:\n",
    "\n",
    "(i)  A ⋂ B =  (2,6)\n",
    "\n",
    "(ii) A ⋃ B= (0,2,3,4,5,6,7,8,10)"
   ]
  },
  {
   "cell_type": "markdown",
   "id": "dd250b18-899d-4951-9c37-d859529c81f6",
   "metadata": {},
   "source": [
    "<H4>Q8. What do you understand about skewness in data?"
   ]
  },
  {
   "cell_type": "markdown",
   "id": "8703526f-0522-4682-8260-9b8bb42749ae",
   "metadata": {},
   "source": [
    "Answer: Skewness is a measure of the asymmetry of a distribution. A distribution is asymmetrical when its left and right side are not mirror images. A distribution can have right (or positive), left (or negative), or zero skewness."
   ]
  },
  {
   "cell_type": "markdown",
   "id": "6e867fe5-e318-4cd0-88d5-0142ce96f22c",
   "metadata": {},
   "source": [
    "<h4>Q9. If a data is right skewed then what will be the position of median with respect to mean?"
   ]
  },
  {
   "cell_type": "markdown",
   "id": "4d1f596c-5bb4-49cd-941a-a0b75c45f823",
   "metadata": {},
   "source": [
    "Answer: If the distribution of data is skewed to the right, the mode is often less than the median, which is less than the mean. The Position of the Median with respect to mean will be towards Right."
   ]
  },
  {
   "cell_type": "markdown",
   "id": "5de1e98a-aacf-4b82-8ed8-71c2c2cb1289",
   "metadata": {},
   "source": [
    "<h4> Q10. Explain the difference between covariance and correlation. How are these measures used in\n",
    "statistical analysis?"
   ]
  },
  {
   "cell_type": "markdown",
   "id": "4e0cc84a-5c5e-4427-9df4-33a62629b63f",
   "metadata": {},
   "source": [
    "Answer:\n",
    "\n",
    "Covariance:\n",
    "\n",
    "* Covariance is a measure to indicate the extent to which two random variables change in tandem.\n",
    "* Covariance is nothing but a measure of correlation.\n",
    "* Covariance indicates the direction of the linear relationship between variables.\n",
    "* Covariance can vary between -∞ and +∞\n",
    "* Covariance is affected by the change in scale. If all the values of one variable are multiplied by a constant and all the values of another variable are multiplied, by a similar or different constant, then the covariance is changed. \n",
    "* Covariance assumes the units from the product of the units of the two variables.\n",
    "* Covariance of two dependent variables measures how much in real quantity (i.e. cm, kg, liters) on average they co-vary.\n",
    "* Covariance is zero in case of independent variables (if one variable moves and the other doesn’t) because then the variables do not necessarily move together.\n",
    "\n",
    "Corelation:\n",
    "\n",
    "* Correlation is a measure used to represent how strongly two random variables are related to each other.\n",
    "* Correlation refers to the scaled form of covariance.\n",
    "* Correlation on the other hand measures both the strength and direction of the linear relationship between two variables.\n",
    "* Correlation ranges between -1 and +1\n",
    "* Correlation is not influenced by the change in scale.\n",
    "* Correlation is dimensionless, i.e. It’s a unit-free measure of the relationship between variables.\n",
    "* Correlation of two dependent variables measures the proportion of how much on average these variables vary w.r.t one another.\n",
    "* Independent movements do not contribute to the total correlation. Therefore, completely independent variables have a zero correlation.\n",
    "\n",
    "\n",
    "<h5>Covariance is an indicator of the extent to which 2 random variables are dependent on each other. A higher number denotes higher dependency. Correlation is a statistical measure that indicates how strongly two variables are related."
   ]
  },
  {
   "cell_type": "markdown",
   "id": "d1bd5c7d-b90e-46b9-88b9-4784721f0ca0",
   "metadata": {},
   "source": [
    "<H4> Q11. What is the formula for calculating the sample mean? Provide an example calculation for a\n",
    "dataset."
   ]
  },
  {
   "cell_type": "markdown",
   "id": "83e80044-7ad5-48a1-827e-79619f9829cc",
   "metadata": {},
   "source": [
    "Answer: The general sample mean formula for calculating the sample mean is expressed as x̄ = ( Σ xi ) ÷ n. Here, x̄ denotes the average value of the samples or sample mean, xi refers all X sample values and 'n' stands for the number of sample terms in the given data."
   ]
  },
  {
   "cell_type": "markdown",
   "id": "49dbcff8-7246-4894-abc3-4333375f5a27",
   "metadata": {},
   "source": [
    "Example:  \n",
    "Dataset= (78, 89, 93, 95, 88, 78, 95)\n",
    "\n",
    "xi= 616\n",
    "\n",
    "n= 7\n",
    "\n",
    "x̄= 616/7 = 88\n",
    "\n",
    "Sample mean = 88"
   ]
  },
  {
   "cell_type": "markdown",
   "id": "0b397d77-9900-4c63-9c1b-bb3a7f5a56d3",
   "metadata": {},
   "source": [
    "<H4>Q12. For a normal distribution data what is the relationship between its measure of central tendency?"
   ]
  },
  {
   "cell_type": "markdown",
   "id": "46cdd4e8-a3ff-4b92-94a9-d34699c77af0",
   "metadata": {},
   "source": [
    "Abswer: Any normal distribution has a graph that is perfectly symmetric about a vertical line through its peak. Therefore, all measures of central tendency (most commonly, the mean, median, and mode) give the same answer: the x -value of the peak.\n",
    "\n",
    "for the right skewed distribution: Mean < Median < Mode\n",
    "\n",
    "for the left skewed distribution: Mean > Median > Mode"
   ]
  },
  {
   "cell_type": "markdown",
   "id": "07fa8787-92ae-4d50-a3a0-709780a9fd0d",
   "metadata": {},
   "source": [
    "<H4> Q13. How is covariance different from correlation?"
   ]
  },
  {
   "cell_type": "markdown",
   "id": "fd5d560f-829d-4924-afc2-9d7b691f2f8d",
   "metadata": {},
   "source": [
    "Answer: Covariance is the measure to indicate the extent by which two random variable changes. And the Correlation is a measure used to represent how strongly two random variables are related to each other."
   ]
  },
  {
   "cell_type": "markdown",
   "id": "63663b88-7c37-469b-829c-929f6f4dbd5c",
   "metadata": {},
   "source": [
    "<H4> Q14. How do outliers affect measures of central tendency and dispersion? Provide an example."
   ]
  },
  {
   "cell_type": "markdown",
   "id": "3b3ba97a-1944-46bb-9dd1-7142eebcf78e",
   "metadata": {},
   "source": [
    "Answer: An Outlier has deep impact on Mean but Median and Mode and not much impacted.\n",
    "\n",
    "Consider the dataset: {10,20,30,40,50,60,70} and dataset with Outlier: {10,20,30,40,50,60,70,1000}"
   ]
  },
  {
   "cell_type": "code",
   "execution_count": 10,
   "id": "878cd4c3-50cd-4dca-b459-a21b95faa531",
   "metadata": {},
   "outputs": [
    {
     "name": "stdout",
     "output_type": "stream",
     "text": [
      "Mean= 40\n",
      "Median= 40\n",
      "Mode= 10\n"
     ]
    }
   ],
   "source": [
    "from statistics import mean,median,mode\n",
    "dataset= [10,20,30,40,50,60,70]\n",
    "\n",
    "Mean= mean(dataset)\n",
    "Median= median(dataset)\n",
    "Mode= mode(dataset)\n",
    "\n",
    "print(\"Mean=\", Mean)\n",
    "print(\"Median=\", Median)\n",
    "print(\"Mode=\", Mode)\n"
   ]
  },
  {
   "cell_type": "code",
   "execution_count": 11,
   "id": "24bfd3f6-cf2b-4778-9036-4945ed8ed98c",
   "metadata": {},
   "outputs": [
    {
     "name": "stdout",
     "output_type": "stream",
     "text": [
      "Mean= 160\n",
      "Median= 45.0\n",
      "Mode= 10\n"
     ]
    }
   ],
   "source": [
    "from statistics import mean,median,mode\n",
    "dataout= [10,20,30,40,50,60,70,1000]\n",
    "\n",
    "Mean= mean(dataout)\n",
    "Median= median(dataout)\n",
    "Mode= mode(dataout)\n",
    "\n",
    "print(\"Mean=\", Mean)\n",
    "print(\"Median=\", Median)\n",
    "print(\"Mode=\", Mode)\n"
   ]
  },
  {
   "cell_type": "code",
   "execution_count": null,
   "id": "bc4f7aa4-49f0-4202-ad68-dceee4d344b0",
   "metadata": {},
   "outputs": [],
   "source": []
  }
 ],
 "metadata": {
  "kernelspec": {
   "display_name": "Python 3 (ipykernel)",
   "language": "python",
   "name": "python3"
  },
  "language_info": {
   "codemirror_mode": {
    "name": "ipython",
    "version": 3
   },
   "file_extension": ".py",
   "mimetype": "text/x-python",
   "name": "python",
   "nbconvert_exporter": "python",
   "pygments_lexer": "ipython3",
   "version": "3.10.8"
  }
 },
 "nbformat": 4,
 "nbformat_minor": 5
}
