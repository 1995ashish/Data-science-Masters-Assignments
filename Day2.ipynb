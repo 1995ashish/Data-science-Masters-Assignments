{
 "cells": [
  {
   "cell_type": "code",
   "execution_count": 2,
   "id": "dcf88ad8-e552-4114-b955-d2f64809eb0f",
   "metadata": {},
   "outputs": [
    {
     "ename": "SyntaxError",
     "evalue": "invalid syntax (3133579176.py, line 1)",
     "output_type": "error",
     "traceback": [
      "\u001b[0;36m  Cell \u001b[0;32mIn[2], line 1\u001b[0;36m\u001b[0m\n\u001b[0;31m    class\u001b[0m\n\u001b[0m         ^\u001b[0m\n\u001b[0;31mSyntaxError\u001b[0m\u001b[0;31m:\u001b[0m invalid syntax\n"
     ]
    }
   ],
   "source": [
    "class"
   ]
  },
  {
   "cell_type": "code",
   "execution_count": 8,
   "id": "b5d67d34-e75d-4ba5-b37f-6d36161ff228",
   "metadata": {},
   "outputs": [
    {
     "data": {
      "text/plain": [
       "False"
      ]
     },
     "execution_count": 8,
     "metadata": {},
     "output_type": "execute_result"
    }
   ],
   "source": [
    "bool(0)"
   ]
  },
  {
   "cell_type": "code",
   "execution_count": 24,
   "id": "91ae04d9-1d9b-4001-b7f7-bfc9f971ed03",
   "metadata": {},
   "outputs": [
    {
     "data": {
      "text/plain": [
       "True"
      ]
     },
     "execution_count": 24,
     "metadata": {},
     "output_type": "execute_result"
    }
   ],
   "source": [
    "'pwskills'.upper().lower().isalnum()"
   ]
  },
  {
   "cell_type": "code",
   "execution_count": null,
   "id": "556c3f7b-1274-4dbc-88ae-448a706b6738",
   "metadata": {},
   "outputs": [],
   "source": [
    "int()"
   ]
  },
  {
   "cell_type": "code",
   "execution_count": 32,
   "id": "51a2d4fe-b3b7-4ea8-a448-974953ac412d",
   "metadata": {},
   "outputs": [
    {
     "name": "stdout",
     "output_type": "stream",
     "text": [
      "My name is Ashish and I have completed my degree of B.tech with the age of 27\n",
      "My name is Ashish and I have completed my degree of B.tech with the age of 27\n"
     ]
    }
   ],
   "source": [
    "Name='Ashish'\n",
    "Age=27\n",
    "Degree='B.tech'\n",
    "print('My name is {Frstname} and I have completed my degree of {Degree1} with the age of {age1}'.format(Frstname=Name,age1=Age,Degree1=Degree))\n",
    "print(f'My name is {Name} and I have completed my degree of {Degree} with the age of {Age}')"
   ]
  },
  {
   "cell_type": "code",
   "execution_count": 39,
   "id": "a830d241-8140-4546-a262-210795774c3b",
   "metadata": {},
   "outputs": [
    {
     "name": "stdout",
     "output_type": "stream",
     "text": [
      "you are eligible to Vote\n"
     ]
    }
   ],
   "source": [
    "age=18\n",
    "if (age>=18):\n",
    "    print('you are eligible to Vote')"
   ]
  },
  {
   "cell_type": "code",
   "execution_count": 41,
   "id": "a04edffc-44f5-484e-98f2-11daa2df5c60",
   "metadata": {},
   "outputs": [
    {
     "name": "stdout",
     "output_type": "stream",
     "text": [
      "you are not eligible to Vote\n"
     ]
    }
   ],
   "source": [
    "age=15\n",
    "if (age<18):\n",
    "    print('you are not eligible to Vote')"
   ]
  },
  {
   "cell_type": "code",
   "execution_count": 42,
   "id": "99459531-9cd7-4df8-bf77-87f11f53788a",
   "metadata": {},
   "outputs": [
    {
     "name": "stdin",
     "output_type": "stream",
     "text": [
      "Enter your name Ashish singh\n"
     ]
    }
   ],
   "source": [
    "name= input(\"Enter your name\")"
   ]
  },
  {
   "cell_type": "code",
   "execution_count": 43,
   "id": "0a8600d3-1462-4b26-a26d-f2eca4fc8de5",
   "metadata": {},
   "outputs": [
    {
     "data": {
      "text/plain": [
       "'Ashish singh'"
      ]
     },
     "execution_count": 43,
     "metadata": {},
     "output_type": "execute_result"
    }
   ],
   "source": [
    "name"
   ]
  },
  {
   "cell_type": "code",
   "execution_count": 44,
   "id": "bcf57e71-7e49-4d3b-90ea-caf3a7baf563",
   "metadata": {},
   "outputs": [
    {
     "name": "stdin",
     "output_type": "stream",
     "text": [
      "Enter your age 27\n"
     ]
    }
   ],
   "source": [
    "age=int(input(\"Enter your age\"))"
   ]
  },
  {
   "cell_type": "code",
   "execution_count": 45,
   "id": "223ed1b0-0e96-4bd9-8098-ce96dac0eb23",
   "metadata": {},
   "outputs": [
    {
     "data": {
      "text/plain": [
       "int"
      ]
     },
     "execution_count": 45,
     "metadata": {},
     "output_type": "execute_result"
    }
   ],
   "source": [
    "type(age)"
   ]
  },
  {
   "cell_type": "code",
   "execution_count": 83,
   "id": "2f30a27e-aef5-4c35-882b-b83a0f748510",
   "metadata": {},
   "outputs": [
    {
     "name": "stdin",
     "output_type": "stream",
     "text": [
      "Enter your age 17\n"
     ]
    },
    {
     "name": "stdout",
     "output_type": "stream",
     "text": [
      "You are Teen blood\n"
     ]
    }
   ],
   "source": [
    "age=int(input(\"Enter your age\"))\n",
    "\n",
    "if age<18:\n",
    "    print(\"You are Teen blood\")\n",
    "\n",
    "elif age>=18 and age<45:\n",
    "    print(\"You are young blood\")\n",
    "    \n",
    "else:\n",
    "        print(\"You are old blood\")"
   ]
  },
  {
   "cell_type": "code",
   "execution_count": 80,
   "id": "e09d8acd-1bf0-4807-821e-b43f576fb7bd",
   "metadata": {},
   "outputs": [
    {
     "name": "stdin",
     "output_type": "stream",
     "text": [
      "Enter the Product price 5000\n"
     ]
    },
    {
     "name": "stdout",
     "output_type": "stream",
     "text": [
      "The product price after discount is 4000.0\n"
     ]
    }
   ],
   "source": [
    "Product_price =int(input(\"Enter the Product price\"))\n",
    "\n",
    "if Product_price>=1000:\n",
    "    Product_price=Product_price-(Product_price*0.2)\n",
    "    \n",
    "    print(f\"The product price after discount is {Product_price}\")\n",
    "    \n",
    "else:\n",
    "    Product_price=Product_price-(Product_price*0.3)\n",
    "        \n",
    "    print(f\"The product price after discount is {Product_price}\")"
   ]
  },
  {
   "cell_type": "code",
   "execution_count": 105,
   "id": "e5e7a930-2c9c-426b-ad90-ad290c993a36",
   "metadata": {},
   "outputs": [
    {
     "name": "stdin",
     "output_type": "stream",
     "text": [
      "Enter the Product price 5000\n"
     ]
    },
    {
     "name": "stdout",
     "output_type": "stream",
     "text": [
      "Congratulations!!! \n",
      "You got additional gift of Goa Trip\n",
      "The product price after discount is 4000.0\n"
     ]
    }
   ],
   "source": [
    "Product_price =int(input(\"Enter the Product price\"))\n",
    "\n",
    "if Product_price>3000:\n",
    "    if Product_price==5000:\n",
    "        print('Congratulations!!! \\nYou got additional gift of Goa Trip')\n",
    "    Product_price=Product_price-(Product_price*0.2)\n",
    "    \n",
    "    print(f\"The product price after discount is {Product_price}\")\n",
    "    \n",
    "elif Product_price>=2000 and Product_price<=3000:\n",
    "    Product_price=Product_price-(Product_price*0.3)\n",
    "    \n",
    "    print(f\"The product price after discount is {Product_price}\")\n",
    "        \n",
    "elif  Product_price>100 and Product_price<=2000:\n",
    "    Product_price=Product_price-(Product_price*0.4)\n",
    "    \n",
    "    print(f\"The product price after discount is {Product_price}\")\n",
    "    \n",
    "else:\n",
    "    print(\"Lets Drink..!\")"
   ]
  },
  {
   "cell_type": "code",
   "execution_count": 107,
   "id": "a2f4ff8e-dd62-454d-9582-69c6d2100299",
   "metadata": {},
   "outputs": [
    {
     "name": "stdin",
     "output_type": "stream",
     "text": [
      "Enter the age 50\n"
     ]
    },
    {
     "name": "stdout",
     "output_type": "stream",
     "text": [
      "50\n",
      "51\n",
      "52\n",
      "53\n",
      "54\n",
      "55\n",
      "56\n",
      "57\n",
      "58\n",
      "59\n",
      "60\n",
      "Its time to retire\n"
     ]
    }
   ],
   "source": [
    "Joining_age=int(input(\"Enter the age\"))\n",
    "while Joining_age<=60:\n",
    "    print(Joining_age)\n",
    "    Joining_age=Joining_age+1\n",
    "else:    \n",
    "    print(\"Its time to retire\")\n"
   ]
  },
  {
   "cell_type": "code",
   "execution_count": 110,
   "id": "685ba0fa-126f-407b-9842-a0c8221ca0de",
   "metadata": {},
   "outputs": [],
   "source": [
    "lst=['Apple','Mango','Banana','Cherry','Potato',1,2,3,4]"
   ]
  },
  {
   "cell_type": "code",
   "execution_count": 111,
   "id": "b75d3445-6a24-4c21-a7e9-52fe794e99ed",
   "metadata": {},
   "outputs": [
    {
     "data": {
      "text/plain": [
       "'Potato'"
      ]
     },
     "execution_count": 111,
     "metadata": {},
     "output_type": "execute_result"
    }
   ],
   "source": [
    "lst[4]"
   ]
  },
  {
   "cell_type": "code",
   "execution_count": 112,
   "id": "8d4ead44-394d-4331-b4ab-2d1f5c588705",
   "metadata": {},
   "outputs": [
    {
     "name": "stdout",
     "output_type": "stream",
     "text": [
      "Apple\n",
      "Mango\n",
      "Banana\n",
      "Cherry\n",
      "Potato\n",
      "1\n",
      "2\n",
      "3\n",
      "4\n"
     ]
    }
   ],
   "source": [
    "for x in lst:\n",
    "    print(x)"
   ]
  },
  {
   "cell_type": "code",
   "execution_count": 113,
   "id": "1554dfcd-9333-490f-a642-efb6c48d2299",
   "metadata": {},
   "outputs": [],
   "source": [
    "fruit_lst=['Apple','Mango','Banana','Cherry']"
   ]
  },
  {
   "cell_type": "code",
   "execution_count": 118,
   "id": "ba7db697-4c6a-474a-a88b-3bd5172c4124",
   "metadata": {},
   "outputs": [
    {
     "name": "stdout",
     "output_type": "stream",
     "text": [
      "Apple\n",
      "Mango\n",
      "Fruit is King of fruits\n",
      "Banana\n",
      "Cherry\n"
     ]
    }
   ],
   "source": [
    "for a in fruit_lst:\n",
    "    print(a)\n",
    "    if a==\"Mango\":\n",
    "        print(\"Fruit is King of fruits\")"
   ]
  },
  {
   "cell_type": "code",
   "execution_count": 125,
   "id": "8ea87843-f7f6-4f54-b3a3-29054cd5883a",
   "metadata": {},
   "outputs": [
    {
     "name": "stdout",
     "output_type": "stream",
     "text": [
      "M\n",
      "a\n",
      "n\n",
      "g\n",
      "o\n"
     ]
    }
   ],
   "source": [
    "fruit=\"Mango\"\n",
    "\n",
    "for x in fruit:\n",
    "    print(x)\n",
    "    #print(x,end=\"\")"
   ]
  },
  {
   "cell_type": "code",
   "execution_count": 126,
   "id": "a7e6f417-04b2-49b9-8966-c1a0691fda33",
   "metadata": {},
   "outputs": [
    {
     "name": "stdout",
     "output_type": "stream",
     "text": [
      "1\n",
      "2\n",
      "3\n",
      "4\n",
      "5\n"
     ]
    }
   ],
   "source": [
    "for i in range(1,6):\n",
    "    print(i)\n",
    "    #by default the step size is 1"
   ]
  },
  {
   "cell_type": "code",
   "execution_count": 2,
   "id": "94407304-4e90-49e1-9520-0e15c20c3380",
   "metadata": {},
   "outputs": [
    {
     "name": "stdout",
     "output_type": "stream",
     "text": [
      "1\n",
      "3\n",
      "5\n",
      "7\n",
      "9\n"
     ]
    }
   ],
   "source": [
    "for i in range(1,10,2):\n",
    "    print(i)\n",
    "    # the step size is 3"
   ]
  },
  {
   "cell_type": "code",
   "execution_count": 12,
   "id": "28fac00a-ddae-4c04-a622-20faff1143a0",
   "metadata": {},
   "outputs": [
    {
     "name": "stdout",
     "output_type": "stream",
     "text": [
      "* * * * * * * * * * * * * * * * * * "
     ]
    }
   ],
   "source": [
    "#Nested Loops\n",
    "n=10\n",
    "\n",
    "for i in range(1,n):\n",
    "    for j in range(0,1+1):\n",
    "        #print(\"*\") it will print in each new line.\n",
    "        print(\"*\",end=\" \") #skipping the /n which is set by default, so printing in straight line.\n",
    "    "
   ]
  },
  {
   "cell_type": "code",
   "execution_count": 26,
   "id": "a3b11e41-f8d7-4993-b2a2-2093f96634a5",
   "metadata": {},
   "outputs": [
    {
     "name": "stdout",
     "output_type": "stream",
     "text": [
      "#\n",
      "##\n",
      "###\n",
      "####\n",
      "#####\n",
      "######\n",
      "#######\n"
     ]
    }
   ],
   "source": [
    "n=7\n",
    "\n",
    "for i in range(0,n):\n",
    "    for j in range(0,i+1):\n",
    "        print(\"#\",end=\"\")\n",
    "    print(\"\\r\")\n",
    "    #print('\\n') adds a new line after each sequence"
   ]
  },
  {
   "cell_type": "code",
   "execution_count": 49,
   "id": "59df499b-412a-441f-8521-0305774471a8",
   "metadata": {},
   "outputs": [
    {
     "name": "stdout",
     "output_type": "stream",
     "text": [
      "# \n",
      "# # \n",
      "# # # \n",
      "# # # # \n",
      "# # # # # \n",
      "# # # # # # \n",
      "# # # # # # # \n"
     ]
    }
   ],
   "source": [
    "n=7\n",
    "\n",
    "for i in range(0,n):\n",
    "    for j in range(1,i+2):\n",
    "        print(\"#\",end=\" \")\n",
    "    print('')\n",
    "    "
   ]
  },
  {
   "cell_type": "code",
   "execution_count": 52,
   "id": "baad1e97-d94f-4abe-8643-7df8a0b43425",
   "metadata": {},
   "outputs": [
    {
     "name": "stdout",
     "output_type": "stream",
     "text": [
      "Apple\n",
      "Mango\n",
      "Fruit is King of fruits\n"
     ]
    }
   ],
   "source": [
    "#Loop controls\n",
    "\n",
    "fruit_lst=['Apple','Mango','Banana','Cherry']\n",
    "\n",
    "for a in fruit_lst:\n",
    "    print(a)\n",
    "    if a==\"Mango\":\n",
    "        print(\"Fruit is King of fruits\")\n",
    "        break\n",
    "        #pass It will print all"
   ]
  },
  {
   "cell_type": "code",
   "execution_count": 57,
   "id": "ccb8d94a-8d6c-4bc0-b1b6-4b466271329f",
   "metadata": {},
   "outputs": [
    {
     "name": "stdout",
     "output_type": "stream",
     "text": [
      "Apple\n",
      "Fruit is King of fruits\n",
      "Banana\n",
      "Cherry\n"
     ]
    }
   ],
   "source": [
    "for a in fruit_lst:\n",
    "        if a==\"Mango\":\n",
    "            print(\"Fruit is King of fruits\")\n",
    "            continue\n",
    "        print(a)\n",
    "        "
   ]
  },
  {
   "cell_type": "code",
   "execution_count": null,
   "id": "7567a82f-1f60-4bc9-a9e7-1f66225b47d1",
   "metadata": {},
   "outputs": [],
   "source": []
  },
  {
   "cell_type": "code",
   "execution_count": null,
   "id": "70ba22f7-cbaf-4bc9-8792-e9e85b434be8",
   "metadata": {},
   "outputs": [],
   "source": []
  }
 ],
 "metadata": {
  "kernelspec": {
   "display_name": "Python 3 (ipykernel)",
   "language": "python",
   "name": "python3"
  },
  "language_info": {
   "codemirror_mode": {
    "name": "ipython",
    "version": 3
   },
   "file_extension": ".py",
   "mimetype": "text/x-python",
   "name": "python",
   "nbconvert_exporter": "python",
   "pygments_lexer": "ipython3",
   "version": "3.10.8"
  }
 },
 "nbformat": 4,
 "nbformat_minor": 5
}
