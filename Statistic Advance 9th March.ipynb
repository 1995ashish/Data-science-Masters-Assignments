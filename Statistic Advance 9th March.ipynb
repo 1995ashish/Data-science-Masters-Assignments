{
 "cells": [
  {
   "cell_type": "markdown",
   "id": "fc072f29-cd84-4d0e-bc4c-474b2d3b4f73",
   "metadata": {},
   "source": [
    "<h4> Q1: What are the Probability Mass Function (PMF) and Probability Density Function (PDF)? Explain with\n",
    "an example."
   ]
  },
  {
   "cell_type": "markdown",
   "id": "0977de0d-b8fb-42c8-aacf-83f678735d7f",
   "metadata": {},
   "source": [
    "Answer: \n",
    "\n",
    "The Probability Mass Function (PMF) is also called a probability function or frequency function which characterizes the distribution of a discrete random variable. Let X be a discrete random variable of a function, then the probability mass function of a random variable X is given by\n",
    "\n",
    "Px (x) = P( X=x ), For all x belongs to the range of X\n",
    "\n",
    "It is noted that the probability function should fall on the condition :\n",
    "\n",
    "Px (x) ≥ 0 and ∑xϵRange(x) Px (x) = 1\n",
    "\n",
    "\n",
    "Here the Range(X) is a countable set and it can be written as { x1, x2, x3, ….}. This means that the random variable X takes the value x1, x2, x3, …."
   ]
  },
  {
   "cell_type": "markdown",
   "id": "9e52002a-fba8-45eb-b371-99fc2b054a70",
   "metadata": {},
   "source": [
    "The Probability Density Function(PDF) defines the probability function representing the density of a continuous random variable lying between a specific range of values. In other words, the probability density function produces the likelihood of values of the continuous random variable.\n",
    "\n",
    "Say we have a continuous random variable whose probability density function is given by f(x) = x + 2, when 0 < x ≤ 2. We want to find P(0.5 < X < 1). Then we integrate x + 2 within the limits 0.5 and 1. This gives us 1.375. Thus, the probability that the continuous random variable lies between 0.5 and 1 is 1.375."
   ]
  },
  {
   "cell_type": "markdown",
   "id": "4d2a3a7f-b462-40bc-bca9-f208e59cf668",
   "metadata": {},
   "source": [
    "<h4> Q2: What is Cumulative Density Function (CDF)? Explain with an example. Why CDF is used?"
   ]
  },
  {
   "cell_type": "markdown",
   "id": "f1bcdc47-f9ba-4e4a-8a83-aa9c057115b2",
   "metadata": {},
   "source": [
    "Answer: "
   ]
  },
  {
   "cell_type": "markdown",
   "id": "02e3b084-6b06-4c6f-b3f3-04ec0e587254",
   "metadata": {},
   "source": [
    "The cumulative distribution function is used to describe the probability distribution of random variables. It can be used to describe the probability for a discrete, continuous or mixed variable. It is obtained by summing up the probability density function and getting the cumulative probability for a random variable.\n",
    "\n",
    "\n",
    "\n",
    "     \n",
    "     "
   ]
  },
  {
   "cell_type": "markdown",
   "id": "333db738-203e-4b74-88e3-ff495ade8424",
   "metadata": {},
   "source": [
    "The CDF defined for a discrete random variable and is given as\n",
    "\n",
    "Fx(x) = P(X ≤ x)\n",
    "\n",
    "Where X is the probability that takes a value less than or equal to x and that lies in the semi-closed interval (a,b], where a < b.\n",
    "\n",
    "Therefore the probability within the interval is written as\n",
    "\n",
    "P(a < X ≤ b) = Fx(b) – Fx(a)\n",
    "\n",
    "The CDF defined for a continuous random variable is given as;\n",
    "\n",
    "Cumulative Distribution Function\n",
    "\n",
    "Here, X is expressed in terms of integration of its probability density function fx.\n",
    "\n",
    "In case, if the distribution of the random variable X has the discrete component at value b,\n",
    "\n",
    "P(X = b) = Fx(b) – limx→b- Fx(x)"
   ]
  },
  {
   "cell_type": "markdown",
   "id": "a78546d2-3b00-4196-a2cc-4a67dc8b44e8",
   "metadata": {},
   "source": [
    "<h4> Q3: What are some examples of situations where the normal distribution might be used as a model? Explain how the parameters of the normal distribution relate to the shape of the distribution."
   ]
  },
  {
   "cell_type": "markdown",
   "id": "a0d6af0e-d13e-4bbc-87a2-bc7f655b56e5",
   "metadata": {},
   "source": [
    "Answer:  \n",
    "\n",
    "The height of people is an example of normal distribution. Most of the people in a specific population are of average height. The number of people taller and shorter than the average height people is almost equal, and a very small number of people are either extremely tall or extremely short."
   ]
  },
  {
   "cell_type": "markdown",
   "id": "3977c491-320a-4521-b6f4-1e3a59c88ed5",
   "metadata": {},
   "source": [
    "The two main parameters of a (normal) distribution are the mean and standard deviation. The parameters determine the shape and probabilities of the distribution. The shape of the distribution changes as the parameter values change."
   ]
  },
  {
   "cell_type": "markdown",
   "id": "49676c75-d9ae-42a0-a271-db1198459a98",
   "metadata": {},
   "source": [
    "In a normal distribution graph, the mean defines the location of the peak, and most of the data points are clustered around the mean. Any changes made to the value of the mean move the curve either to the left or right along the X-axis."
   ]
  },
  {
   "cell_type": "markdown",
   "id": "b2fd64cc-2a62-4f8a-b7b8-9112b48c6784",
   "metadata": {},
   "source": [
    "The standard deviation measures the dispersion of the data points relative to the mean. It determines how far away from the mean the data points are positioned and represents the distance between the mean and the observations.\n",
    "\n",
    "On the graph, the standard deviation determines the width of the curve, and it tightens or expands the width of the distribution along the x-axis. Typically, a small standard deviation relative to the mean produces a steep curve, while a large standard deviation relative to the mean produces a flatter curve."
   ]
  },
  {
   "cell_type": "markdown",
   "id": "5a76c62f-b444-4468-af1f-b5637cf044af",
   "metadata": {},
   "source": [
    "<h4> Q4: Explain the importance of Normal Distribution. Give a few real-life examples of Normal Distribution."
   ]
  },
  {
   "cell_type": "markdown",
   "id": "fca546ba-1dc6-4767-be1a-310d4f0d654a",
   "metadata": {},
   "source": [
    "Answer: \n",
    "\n",
    "In a normal distribution, data is symmetrically distributed with no skew. When plotted on a graph, the data follows a bell shape, with most values clustering around a central region and tapering off as they go further away from the center.\n",
    "\n",
    "Normal distributions are also called Gaussian distributions or bell curves because of their shape."
   ]
  },
  {
   "cell_type": "markdown",
   "id": "d9514d13-bcc8-48aa-a942-8d9d706a994f",
   "metadata": {},
   "source": [
    "All kinds of variables in natural and social sciences are normally or approximately normally distributed. Height, birth weight, reading ability, job satisfaction, or SAT scores are just a few examples of such variables."
   ]
  },
  {
   "cell_type": "markdown",
   "id": "bd5e3c60-9e08-4816-858d-c6fc1a4e0b07",
   "metadata": {},
   "source": [
    "<h4> Q5: What is Bernaulli Distribution? Give an Example. What is the difference between Bernoulli Distribution and Binomial Distribution?"
   ]
  },
  {
   "cell_type": "markdown",
   "id": "2ec18862-be70-4cad-a133-10636fa99ed2",
   "metadata": {},
   "source": [
    "Answer:   \n",
    "\n",
    "A discrete probability distribution wherein the random variable can only have 2 possible outcomes is known as a Bernoulli Distribution. If in a Bernoulli trial the random variable takes on the value of 1, it means that this is a success. The probability of success is given by p. Similarly, if the value of the random variable is 0, it indicates failure. The probability of failure is q or 1 - p. Bernoulli distribution can be used to derive a binomial distribution"
   ]
  },
  {
   "cell_type": "markdown",
   "id": "88b76310-965c-4c17-a081-c999423f5695",
   "metadata": {},
   "source": [
    "Example: Suppose there is an experiment where you flip a coin that is fair. If the outcome of the flip is heads then you will win. This means that the probability of getting heads is p = 1/2. If X is the random variable following a Bernoulli Distribution, we get P(X = 1) = p = 1/2."
   ]
  },
  {
   "cell_type": "markdown",
   "id": "8a9e9bfb-0c68-4d4a-b7a8-830669cd0447",
   "metadata": {},
   "source": [
    "A Bernoulli random variable has two possible outcomes: 0 or 1. A binomial distribution is the sum of independent and identically distributed Bernoulli random variables."
   ]
  },
  {
   "cell_type": "markdown",
   "id": "a94cdcd9-a989-47d6-a2ca-6e2b8c69e825",
   "metadata": {},
   "source": [
    "<h4> Q6. Consider a dataset with a mean of 50 and a standard deviation of 10. If we assume that the dataset is normally distributed, what is the probability that a randomly selected observation will be greater than 60? Use the appropriate formula and show your calculations."
   ]
  },
  {
   "cell_type": "markdown",
   "id": "a4f95467-11a7-40ed-bd8e-743ed06e7d56",
   "metadata": {},
   "source": [
    "Answer: \n",
    "\n",
    "\n",
    "z=M-mean/Standard deviation\n",
    "    \n",
    "Z= 60-50/10 =1, thus, P(0 < Z < 1) = 0.3413\n"
   ]
  },
  {
   "cell_type": "markdown",
   "id": "e53ef79b-5a8e-452c-a8f1-75d96049bdef",
   "metadata": {},
   "source": [
    "<h4> Q7: Explain uniform Distribution with an example."
   ]
  },
  {
   "cell_type": "markdown",
   "id": "d0cc6e15-0a0e-4be6-ac47-5da4de1a789c",
   "metadata": {},
   "source": [
    "Answer: In statistics, uniform distribution refers to a type of probability distribution in which all outcomes are equally likely. A deck of cards has within it uniform distributions because the likelihood of drawing a heart, a club, a diamond, or a spade is equally likely."
   ]
  },
  {
   "cell_type": "markdown",
   "id": "44c006d6-ce2c-4fd8-bd65-35ccc3023559",
   "metadata": {},
   "source": [
    "<h4> Q8: What is the z score? State the importance of the z score."
   ]
  },
  {
   "cell_type": "markdown",
   "id": "32e0d36b-ba21-404a-a8d3-c00a4e897ab1",
   "metadata": {},
   "source": [
    "Answer:  Z-score is a statistical measurement that describes a value's relationship to the mean of a group of values. Z-score is measured in terms of standard deviations from the mean. If a Z-score is 0, it indicates that the data point's score is identical to the mean score."
   ]
  },
  {
   "cell_type": "markdown",
   "id": "f9fc7a8c-8a3a-4263-a8a6-6dbd03a9f910",
   "metadata": {},
   "source": [
    "<h4> Q9: What is Central Limit Theorem? State the significance of the Central Limit Theorem."
   ]
  },
  {
   "cell_type": "markdown",
   "id": "f36e04f9-9c6e-4b40-8391-2bd2e6d16dd7",
   "metadata": {},
   "source": [
    "Answer: The central limit theorem states that whenever a random sample of size n is taken from any distribution with mean and variance, then the sample mean will be approximately a normal distribution with mean and variance. The larger the value of the sample size, the better the approximation of the normal.\n",
    "\n",
    "\n",
    "The central limit theorem is useful when analyzing large data sets because it allows one to assume that the sampling distribution of the mean will be normally-distributed in most cases. This allows for easier statistical analysis and inference."
   ]
  },
  {
   "cell_type": "markdown",
   "id": "da5929f4-4e23-4319-ae7c-dadbdf92d62c",
   "metadata": {},
   "source": [
    "<h4> Q10: State the assumptions of the Central Limit Theorem."
   ]
  },
  {
   "cell_type": "markdown",
   "id": "e16fb58f-3107-4b9a-91c0-b764582cb4e9",
   "metadata": {},
   "source": [
    "Answer: The data must adhere to the randomization rule. It needs to be sampled at random. The samples should be unrelated to one another. One sample should not impact the others."
   ]
  },
  {
   "cell_type": "code",
   "execution_count": null,
   "id": "30e4f660-3164-4d85-9163-fe60d3c26661",
   "metadata": {},
   "outputs": [],
   "source": []
  }
 ],
 "metadata": {
  "kernelspec": {
   "display_name": "Python 3 (ipykernel)",
   "language": "python",
   "name": "python3"
  },
  "language_info": {
   "codemirror_mode": {
    "name": "ipython",
    "version": 3
   },
   "file_extension": ".py",
   "mimetype": "text/x-python",
   "name": "python",
   "nbconvert_exporter": "python",
   "pygments_lexer": "ipython3",
   "version": "3.10.8"
  }
 },
 "nbformat": 4,
 "nbformat_minor": 5
}
