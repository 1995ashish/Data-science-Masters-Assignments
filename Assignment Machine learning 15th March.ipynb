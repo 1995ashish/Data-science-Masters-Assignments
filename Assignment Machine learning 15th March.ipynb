{
 "cells": [
  {
   "cell_type": "markdown",
   "id": "df57cb95-ba17-47af-b8dc-644d51f9f6a0",
   "metadata": {},
   "source": [
    "Q1- Explain the following with an Example?\n",
    "\n",
    "1) Artificial Intellegence,\n",
    "2) Machine Learning,\n",
    "3) Deep learning"
   ]
  },
  {
   "cell_type": "markdown",
   "id": "d19ec299-50c2-4a95-9776-40fb7374e8de",
   "metadata": {},
   "source": [
    "Answer: \n",
    "    \n",
    "> Artificial Intellegence:  Artificial intelligence is the simulation of human intelligence processes by machines, especially computer systems. Example: Chatgpt, Geneative tool in Photoshop.\n",
    "\n",
    "> Machine learning: Machine learning is a subfield of artificial intelligence, which is broadly defined as the capability of a machine to imitate intelligent human behavior. Example: Speech recognition, Fraud detection\n",
    "\n",
    ">Deep learning: Deep learning is a method in artificial intelligence (AI) that teaches computers to process data in a way that is inspired by the human brain. Deep learning models can recognize complex patterns in pictures, text, sounds, and other data to produce accurate insights and predictions. Example: voice-enabled technology and credit card fraud detection"
   ]
  },
  {
   "cell_type": "markdown",
   "id": "7d83e13e-e761-4092-b184-f43467aaa190",
   "metadata": {},
   "source": [
    "Q2- What is supervised learning? List some examples of supervised learning."
   ]
  },
  {
   "cell_type": "markdown",
   "id": "d0f518be-1daf-4a8d-8217-67fd0290b04e",
   "metadata": {},
   "source": [
    "Answer:"
   ]
  },
  {
   "cell_type": "markdown",
   "id": "3c537ac1-625e-4871-8c04-d77e22975d95",
   "metadata": {},
   "source": [
    "Supervised learning, as the name indicates, has the presence of a supervisor as a teacher. Basically supervised learning is when we teach or train the machine using data that is well-labelled. Which means some data is already tagged with the correct answer. After that, the machine is provided with a new set of examples(data) so that the supervised learning algorithm analyses the training data(set of training examples) and produces a correct outcome from labeled data.\n",
    "\n",
    "Example: Spam detection, Optical character recognition."
   ]
  },
  {
   "cell_type": "markdown",
   "id": "d0977676-0544-447f-bcd2-9b73514055b3",
   "metadata": {},
   "source": [
    "Q3- What is unsupervised learning? List some examples of unsupervised learning."
   ]
  },
  {
   "cell_type": "markdown",
   "id": "158e98ad-6060-4be2-83c5-eba1e4fdadf2",
   "metadata": {},
   "source": [
    "Answer:"
   ]
  },
  {
   "cell_type": "markdown",
   "id": "1f188de9-424a-4fd5-a307-dea84a9fff28",
   "metadata": {},
   "source": [
    "Unsupervised learning is the training of a machine using information that is neither classified nor labeled and allowing the algorithm to act on that information without guidance. Here the task of the machine is to group unsorted information according to similarities, patterns, and differences without any prior training of data. \n",
    "\n",
    "Unlike supervised learning, no teacher is provided that means no training will be given to the machine. Therefore the machine is restricted to find the hidden structure in unlabeled data by itself.\n",
    "\n",
    "Example: Find a face in an image."
   ]
  },
  {
   "cell_type": "markdown",
   "id": "49964e78-16a7-4c9c-9097-2e7eb851a446",
   "metadata": {},
   "source": [
    "Q4- What is the difference between AI, ML, DL, and DS?"
   ]
  },
  {
   "cell_type": "markdown",
   "id": "60cc1565-4fef-4ac1-accd-c778b9cad79b",
   "metadata": {},
   "source": [
    "Answer: \n",
    "    \n",
    ">Artificial Intelligence \n",
    "\n",
    "-Includes Machine Learning.\t\n",
    "\n",
    "-Artificial Intelligence combines large amounts of data through iterative processing and intelligent algorithms to help computers learn automatically.\n",
    "\n",
    "-Some of the popular tools that AI uses are- TensorFlow, Scikit Learn, Keras\n",
    "\n",
    "-Artificial Intelligence uses logic and decision trees.\n",
    "\n",
    "-Chatbots, and Voice assistants are popular applications of AI. \n",
    "\n",
    "\n",
    ">Machine Learning\n",
    "\n",
    "-Subset of Artificial Intelligence.\n",
    "\n",
    "-Machine Learning uses efficient programs that can use data without being explicitly told to do so.\n",
    "\n",
    "-The popular tools that Machine Learning makes use of are-1. Amazon Lex2. IBM Watson Studio3. Microsoft Azure ML Studio\n",
    "\n",
    "-Machine Learning uses statistical models. \n",
    "\n",
    "-Recommendation Systems such as Spotify, and Facial Recognition are popular examples.\n",
    "\n",
    "\n",
    ">Data Science\n",
    "\n",
    "-Includes various Data Operations.\n",
    "\n",
    "-Data Science works by sourcing, cleaning, and processing data to extract meaning out of it for analytical purposes. \n",
    "\n",
    "-Some of the popular tools used by Data Science are-1. SAS2. Tableau3. Apache Spark4. MATLAB\n",
    "\n",
    "-Data Science deals with structured and unstructured data. \n",
    "\n",
    "-Fraud Detection and Healthcare analysis are popular examples of Data Science. \n",
    "\n",
    ">Deep learning\n",
    "\n",
    "-Deep learning is a type of machine learning, which is a subset of artificial intelligence.\n",
    "\n",
    "-It is about computers learning to think using structures modeled on the human brain\n",
    "\n",
    "-It typically needs less ongoing human intervention.\n",
    "\n",
    "-Deep learning can analyze images, videos, and unstructured data in ways machine learning can’t easily do.\n",
    "\n",
    "-Tensor flow, Pytorch, Caffe are some deep learning tools"
   ]
  },
  {
   "cell_type": "markdown",
   "id": "c9f4675b-8154-4041-91de-b22c17d6e2e1",
   "metadata": {},
   "source": [
    "Q5- What are the main difference between supervised, unsupervised, and semi-supervised learning?"
   ]
  },
  {
   "cell_type": "markdown",
   "id": "2c4594f0-48c8-40dd-b45d-f54bcc581f91",
   "metadata": {},
   "source": [
    "Answer:\n",
    "\n",
    ">Supervised Machine Learning\n",
    "\n",
    "-Supervised Learning is a category in which we feed labelled data as input to the machine learning model.\n",
    "\n",
    "-Supervised learning is the process where you have input variables (X) and an output variable (Y) and you use an algorithm to learn the mapping function from the input to the output.\n",
    "Y = f(X)\n",
    "\n",
    "-The goal is to approximate the mapping function so well that when you have new input data (X) that you can predict the output variables (Y ) for that data. \n",
    "\n",
    "-It is called supervised learning because the process of an algorithm learning from the training dataset can be thought of as a teacher supervising the learning process.\n",
    "\n",
    "-Supervised learning problems further grouped into regression and classification problems.\n",
    "\n",
    "#Classification: A classification problem is when the output variable is a category, such as red or blue or disease and no disease.\n",
    "\n",
    "#Regression: A regression problem is the output variable is a real value, such as dollars or weight.\n",
    "\n",
    "\n",
    ">Unsupervised Machine Learning\n",
    "\n",
    "-Unsupervised Learning is a category of machine learning in which we only have the input data to feed to the model but no corresponding output data.\n",
    "\n",
    "-Unsupervised learning is a machine learning technique, where you do not need to supervise the model. Instead, you need to allow the model to work on its own to discover information. \n",
    "\n",
    "-It mainly deals with the unlabeled data. \n",
    "\n",
    "-Algorithms are left to their own devises to discover and present the interesting structure in the data.\n",
    "\n",
    "-Unsupervised learning is very useful in exploratory analysis because it can automatically identify structure in data. \n",
    "\n",
    "-Unsupervised learning problems can be further grouped into clustering and association problems.\n",
    "\n",
    "#Clustering: Clustering is an important concept when it comes to unsupervised learning. It mainly deals with finding a structure or pattern in a collection of uncategorized data. Clustering algorithms will process your data and find natural clusters(groups) if they exist in the data.\n",
    "\n",
    "#Association: An association rule learning problem is where you want to discover rules that describe large portions of your data. This unsupervised technique is about discovering exciting relationships between variables in large databases.\n",
    "\n",
    ">Semi-supervised Machine Learning\n",
    "\n",
    "-Semi-supervised Learning is a category of machine learning in which we have input data, and only some input data are labelled. In more technical terms, the data is partially annotated.\n",
    "\n",
    "-In this type of learning, the algorithm is trained upon a combination of labeled and unlabeled data. Typically, this combination will contain a very small amount of labeled data and a very large amount of unlabeled data. \n",
    "\n",
    "-This is useful for a below reasons. First, the process of labeling massive amounts of data for supervised learning is often prohibitively time-consuming and expensive. too much labeling can impose human biases on the model. That means including lots of unlabeled data during the training process actually tends to improve the accuracy of the final model while reducing the time and cost spent building it. \n",
    "\n",
    "-You can use unsupervised learning techniques to discover and learn the structure in the input variables. You can also use supervised learning techniques to make best guess predictions for the unlabeled data, feed that data back into the supervised learning algorithm as training data and use the model to make predictions on new unseen data."
   ]
  },
  {
   "cell_type": "markdown",
   "id": "b1b7e453-c107-4ee8-af0f-aad764cd7c7d",
   "metadata": {},
   "source": [
    "Q6- What is train, test and validation split? Explain the importance of each term."
   ]
  },
  {
   "cell_type": "markdown",
   "id": "bdc58927-d096-4b0f-b748-b60bc25a8b66",
   "metadata": {},
   "source": [
    "Answer:\n",
    "\n",
    "-Training data is the set of the data on which the actual training takes place. \n",
    "\n",
    "-Validation split helps to improve the model performance by fine-tuning the model after each epoch. \n",
    "\n",
    "-The test set informs us about the final accuracy of the model after completing the training phase."
   ]
  },
  {
   "cell_type": "markdown",
   "id": "983c31bd-eaa0-4375-8277-9dfdfe4b344c",
   "metadata": {},
   "source": [
    "Q7- How can unsupervised learning be used in anomaly detection?"
   ]
  },
  {
   "cell_type": "markdown",
   "id": "2238ab16-7a6a-4cbf-b881-06bc45192df5",
   "metadata": {},
   "source": [
    "Answer:  Anomaly detection techniques of unsupervised nature assume that normal data points occur considerably more frequently than anomalous data points. This assumption is used to classify data points that occur less frequently as anomalies. Unsupervised techniques assign each data point a score instead of a label."
   ]
  },
  {
   "cell_type": "markdown",
   "id": "79228fcb-6a09-413f-9e30-1a41ad885f29",
   "metadata": {},
   "source": [
    "Q8- List down some commonly used supervised learning algorithms and unsupervised learning algorithms."
   ]
  },
  {
   "cell_type": "markdown",
   "id": "53693c35-e4cb-4a2d-b0b8-5a9a516aff64",
   "metadata": {},
   "source": [
    "Answer:\n",
    "    \n",
    "Supervised learning algorithms are listed below.\n",
    "\n",
    "Linear Regression. \n",
    "Logistic Regression.\n",
    "Support Vector Machines.\n",
    "Decision Trees.\n",
    "Naive Bayes.\n",
    "K-Nearest Neighbors.\n",
    "Neural Networks.\n",
    "Random Forests.\n",
    "\n",
    "Unsupervised learning algorithms are listed below,\n",
    "\n",
    "K-means clustering. \n",
    "Hierarchical clustering. \n",
    "Apriori algorithm"
   ]
  },
  {
   "cell_type": "code",
   "execution_count": null,
   "id": "1763171c-d725-4880-8218-2ad6b018fe5d",
   "metadata": {},
   "outputs": [],
   "source": []
  }
 ],
 "metadata": {
  "kernelspec": {
   "display_name": "Python 3 (ipykernel)",
   "language": "python",
   "name": "python3"
  },
  "language_info": {
   "codemirror_mode": {
    "name": "ipython",
    "version": 3
   },
   "file_extension": ".py",
   "mimetype": "text/x-python",
   "name": "python",
   "nbconvert_exporter": "python",
   "pygments_lexer": "ipython3",
   "version": "3.10.8"
  }
 },
 "nbformat": 4,
 "nbformat_minor": 5
}
