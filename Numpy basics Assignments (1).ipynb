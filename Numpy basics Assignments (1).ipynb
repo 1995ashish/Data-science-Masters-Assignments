{
 "cells": [
  {
   "cell_type": "markdown",
   "id": "b9952765-ddf8-4628-bd22-a1ac6406c45e",
   "metadata": {
    "id": "b9952765-ddf8-4628-bd22-a1ac6406c45e"
   },
   "source": [
    "Consider the below code to answer further questions:"
   ]
  },
  {
   "cell_type": "raw",
   "id": "93c524cf-c62a-41c7-b16e-55d31724cfee",
   "metadata": {},
   "source": [
    "import numpy as np\n",
    "list_ = [ ‘1’ , ’2’ , ‘3’ , ‘4’ , ‘5’ ]\n",
    "array_list = np.array(object = list_)"
   ]
  },
  {
   "cell_type": "markdown",
   "id": "57ee49e9-4031-44be-9542-8838f0d4dc38",
   "metadata": {},
   "source": [
    "Q1. Is there any difference in the data type of variables list_ and array_list? If there is then write a code\n",
    "to print the data types of both the variables."
   ]
  },
  {
   "cell_type": "code",
   "execution_count": null,
   "id": "c21c681c-3936-4edc-b822-eb846d77926b",
   "metadata": {
    "id": "c21c681c-3936-4edc-b822-eb846d77926b"
   },
   "outputs": [],
   "source": [
    "import numpy as np\n",
    "list_ = ['1','2','3','4','5']\n",
    "array_list = np.array(object = list_)"
   ]
  },
  {
   "cell_type": "code",
   "execution_count": null,
   "id": "31d35ffa-5c85-4f56-918f-1aa6cad5271c",
   "metadata": {
    "id": "31d35ffa-5c85-4f56-918f-1aa6cad5271c",
    "outputId": "f0d44b34-1868-4828-f9bd-3698f5d28b5b"
   },
   "outputs": [
    {
     "data": {
      "text/plain": [
       "list"
      ]
     },
     "execution_count": 23,
     "metadata": {},
     "output_type": "execute_result"
    }
   ],
   "source": [
    "type(list_)"
   ]
  },
  {
   "cell_type": "code",
   "execution_count": null,
   "id": "ca2b526e-e9ef-4025-9075-a3c23d37ffb3",
   "metadata": {
    "id": "ca2b526e-e9ef-4025-9075-a3c23d37ffb3",
    "outputId": "834cd896-8a8a-4946-90b6-606c70e5d39d"
   },
   "outputs": [
    {
     "data": {
      "text/plain": [
       "numpy.ndarray"
      ]
     },
     "execution_count": 24,
     "metadata": {},
     "output_type": "execute_result"
    }
   ],
   "source": [
    "type(array_list)"
   ]
  },
  {
   "cell_type": "markdown",
   "id": "29c5ed14-9eed-466d-99ad-ce2348dbda13",
   "metadata": {
    "id": "29c5ed14-9eed-466d-99ad-ce2348dbda13"
   },
   "source": [
    "Answer: The data types are different as the list_ is the List data type and the array_list data type is array."
   ]
  },
  {
   "cell_type": "markdown",
   "id": "1c4841dc-76f3-43af-a448-251f5956a61f",
   "metadata": {
    "id": "1c4841dc-76f3-43af-a448-251f5956a61f"
   },
   "source": [
    "Q2. Write a code to print the data type of each and every element of both the variables list_ and\n",
    "arra_list."
   ]
  },
  {
   "cell_type": "code",
   "execution_count": null,
   "id": "dbd01ced-92bb-481d-a8b4-ed2b1e453693",
   "metadata": {
    "id": "dbd01ced-92bb-481d-a8b4-ed2b1e453693",
    "outputId": "e1579c02-10e8-49f8-8d05-044388ed432a"
   },
   "outputs": [
    {
     "name": "stdout",
     "output_type": "stream",
     "text": [
      "<class 'str'>\n",
      "<class 'str'>\n",
      "<class 'str'>\n",
      "<class 'str'>\n",
      "<class 'str'>\n"
     ]
    }
   ],
   "source": [
    "for i in range(0,5):\n",
    "    a=list_[i]\n",
    "    print(type(a))"
   ]
  },
  {
   "cell_type": "code",
   "execution_count": null,
   "id": "0edb32fd-27fa-4a73-8aec-5ed9b9c5c26d",
   "metadata": {
    "id": "0edb32fd-27fa-4a73-8aec-5ed9b9c5c26d",
    "outputId": "e66920a5-0f69-4df3-8ced-50b7739cf0fc"
   },
   "outputs": [
    {
     "name": "stdout",
     "output_type": "stream",
     "text": [
      "<class 'numpy.str_'>\n",
      "<class 'numpy.str_'>\n",
      "<class 'numpy.str_'>\n",
      "<class 'numpy.str_'>\n",
      "<class 'numpy.str_'>\n"
     ]
    }
   ],
   "source": [
    "for i in range(0,5):\n",
    "    a=array_list[i]\n",
    "    print(type(a))"
   ]
  },
  {
   "cell_type": "markdown",
   "id": "6a6c5065-7745-4736-b9e6-11327bc402a3",
   "metadata": {
    "id": "6a6c5065-7745-4736-b9e6-11327bc402a3"
   },
   "source": [
    "Q3. Considering the following changes in the variable, array_list:"
   ]
  },
  {
   "cell_type": "raw",
   "id": "2b4a29e6-0dc4-4b64-8d91-970495a75190",
   "metadata": {},
   "source": [
    "array_list = np.array(object = list_, dtype = int)"
   ]
  },
  {
   "cell_type": "markdown",
   "id": "449101b7-cdda-4251-b4f4-8e1c92022045",
   "metadata": {},
   "source": [
    "Will there be any difference in the data type of the elements present in both the variables, list_ and\n",
    "arra_list? If so then print the data types of each and every element present in both the variables, list_\n",
    "and arra_list.\n",
    "\n",
    "Consider the below code to answer further questions:"
   ]
  },
  {
   "cell_type": "raw",
   "id": "bef7ba77-b6d3-4778-a086-3d9d58634c3c",
   "metadata": {},
   "source": [
    "import numpy as np\n",
    "num_list = [ [ 1 , 2 , 3 ] , [ 4 , 5 , 6 ] ]\n",
    "num_array = np.array(object = num_list)"
   ]
  },
  {
   "cell_type": "code",
   "execution_count": null,
   "id": "aa99143f-cdb4-461b-964e-3aa5ff682dad",
   "metadata": {
    "id": "aa99143f-cdb4-461b-964e-3aa5ff682dad"
   },
   "outputs": [],
   "source": [
    "array_list = np.array(object = list_, dtype = int)"
   ]
  },
  {
   "cell_type": "code",
   "execution_count": null,
   "id": "9d0c00d0-4100-48e7-89b7-bd65e352e804",
   "metadata": {
    "id": "9d0c00d0-4100-48e7-89b7-bd65e352e804",
    "outputId": "f1e02550-8bfa-44b9-ae18-e7d587e77610"
   },
   "outputs": [
    {
     "name": "stdout",
     "output_type": "stream",
     "text": [
      "<class 'numpy.int64'>\n",
      "<class 'numpy.int64'>\n",
      "<class 'numpy.int64'>\n",
      "<class 'numpy.int64'>\n",
      "<class 'numpy.int64'>\n"
     ]
    }
   ],
   "source": [
    "for i in range(0,5):\n",
    "    a=array_list[i]\n",
    "    print(type(a))"
   ]
  },
  {
   "cell_type": "code",
   "execution_count": null,
   "id": "8e075982-9843-4569-bd18-0eed2edcebca",
   "metadata": {
    "id": "8e075982-9843-4569-bd18-0eed2edcebca",
    "outputId": "189e77b5-2b9c-4563-9829-65c9efc992b0"
   },
   "outputs": [
    {
     "name": "stdout",
     "output_type": "stream",
     "text": [
      "<class 'str'>\n",
      "<class 'str'>\n",
      "<class 'str'>\n",
      "<class 'str'>\n",
      "<class 'str'>\n"
     ]
    }
   ],
   "source": [
    "for i in range(0,5):\n",
    "    a=list_[i]\n",
    "    print(type(a))"
   ]
  },
  {
   "cell_type": "markdown",
   "id": "81df8e87-8c64-4cfc-9ca0-e871fe24dc8c",
   "metadata": {
    "id": "81df8e87-8c64-4cfc-9ca0-e871fe24dc8c"
   },
   "source": [
    "Q4. Write a code to find the following characteristics of variable, num_array:"
   ]
  },
  {
   "cell_type": "markdown",
   "id": "dbad55ea-8793-4b73-b89e-22c70808173a",
   "metadata": {},
   "source": [
    "(i) shape"
   ]
  },
  {
   "cell_type": "markdown",
   "id": "da1f7c56-2f32-470b-acd0-45fb8a768286",
   "metadata": {},
   "source": [
    "(ii) size"
   ]
  },
  {
   "cell_type": "code",
   "execution_count": null,
   "id": "631dbef3-748f-4fa1-8a25-a9e40dad5017",
   "metadata": {
    "id": "631dbef3-748f-4fa1-8a25-a9e40dad5017"
   },
   "outputs": [],
   "source": [
    "import numpy as np\n",
    "num_list = [ [ 1 , 2 , 3 ] , [ 4 , 5 , 6 ] ]\n",
    "num_array = np.array(object = num_list)"
   ]
  },
  {
   "cell_type": "code",
   "execution_count": null,
   "id": "28c0664f-55dc-4a32-b767-afb48ad36ac8",
   "metadata": {
    "id": "28c0664f-55dc-4a32-b767-afb48ad36ac8",
    "outputId": "99f234e1-584a-413b-aa12-b2e177fca661"
   },
   "outputs": [
    {
     "data": {
      "text/plain": [
       "(2, 3)"
      ]
     },
     "execution_count": 41,
     "metadata": {},
     "output_type": "execute_result"
    }
   ],
   "source": [
    "np.shape(num_array)"
   ]
  },
  {
   "cell_type": "code",
   "execution_count": null,
   "id": "1bed54b1-5e8c-4fe3-96c5-d102c56b5b3b",
   "metadata": {
    "id": "1bed54b1-5e8c-4fe3-96c5-d102c56b5b3b",
    "outputId": "4b765e10-96bc-40bb-8894-9d0505b40d67"
   },
   "outputs": [
    {
     "data": {
      "text/plain": [
       "6"
      ]
     },
     "execution_count": 42,
     "metadata": {},
     "output_type": "execute_result"
    }
   ],
   "source": [
    "np.size(num_array)"
   ]
  },
  {
   "cell_type": "markdown",
   "id": "62b3aa60-fda9-4ed9-952e-08475c2c8a50",
   "metadata": {
    "id": "62b3aa60-fda9-4ed9-952e-08475c2c8a50"
   },
   "source": [
    "Q5. Write a code to create numpy array of 3*3 matrix containing zeros only, using a numpy array\n",
    "creation function.\n",
    "[Hint: The size of the array will be 9 and the shape will be (3,3).]"
   ]
  },
  {
   "cell_type": "code",
   "execution_count": null,
   "id": "5ff70589-0778-4f12-8e0d-6fe5c114577c",
   "metadata": {
    "id": "5ff70589-0778-4f12-8e0d-6fe5c114577c"
   },
   "outputs": [],
   "source": [
    "arr=np.random.randint(1,9, (3,3))"
   ]
  },
  {
   "cell_type": "code",
   "execution_count": null,
   "id": "5ca80ac0-2e7f-482e-8af3-94a1098873f0",
   "metadata": {
    "id": "5ca80ac0-2e7f-482e-8af3-94a1098873f0",
    "outputId": "14719ce4-13c9-4d8c-9a3a-9216b301abe1"
   },
   "outputs": [
    {
     "data": {
      "text/plain": [
       "array([[2, 8, 2],\n",
       "       [4, 5, 6],\n",
       "       [1, 5, 4]])"
      ]
     },
     "execution_count": 44,
     "metadata": {},
     "output_type": "execute_result"
    }
   ],
   "source": [
    "arr"
   ]
  },
  {
   "cell_type": "markdown",
   "id": "22c1d8a8-1a4a-4278-8310-e201861e0768",
   "metadata": {
    "id": "22c1d8a8-1a4a-4278-8310-e201861e0768"
   },
   "source": [
    "Q6. Create an identity matrix of shape (5,5) using numpy functions?\n",
    "[Hint: An identity matrix is a matrix containing 1 diagonally and other elements will be 0.]"
   ]
  },
  {
   "cell_type": "code",
   "execution_count": null,
   "id": "2a4db5dc-042c-43d8-ad68-58babc54f608",
   "metadata": {
    "id": "2a4db5dc-042c-43d8-ad68-58babc54f608"
   },
   "outputs": [],
   "source": [
    "import numpy.matlib as mb\n",
    "mb.eye(5)"
   ]
  },
  {
   "cell_type": "code",
   "execution_count": null,
   "id": "2ed99a3e-9a46-4c06-b484-5a3ff11ba767",
   "metadata": {
    "id": "2ed99a3e-9a46-4c06-b484-5a3ff11ba767"
   },
   "outputs": [],
   "source": []
  }
 ],
 "metadata": {
  "colab": {
   "provenance": []
  },
  "kernelspec": {
   "display_name": "Python 3 (ipykernel)",
   "language": "python",
   "name": "python3"
  },
  "language_info": {
   "codemirror_mode": {
    "name": "ipython",
    "version": 3
   },
   "file_extension": ".py",
   "mimetype": "text/x-python",
   "name": "python",
   "nbconvert_exporter": "python",
   "pygments_lexer": "ipython3",
   "version": "3.10.8"
  }
 },
 "nbformat": 4,
 "nbformat_minor": 5
}
