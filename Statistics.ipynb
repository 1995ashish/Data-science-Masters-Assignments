{
 "cells": [
  {
   "cell_type": "markdown",
   "id": "fd1002a3-d35b-4c6e-900b-6b6984d32a5e",
   "metadata": {},
   "source": [
    "<h4>Q1. What is Statistics?"
   ]
  },
  {
   "cell_type": "markdown",
   "id": "6d2f1934-f6c0-4287-8f5b-777028a11b78",
   "metadata": {},
   "source": [
    "Answer: Statistics is the science concerned with developing and studying methods for collecting, analyzing, interpreting and presenting empirical data."
   ]
  },
  {
   "cell_type": "markdown",
   "id": "7e28827c-20e3-4270-a420-9a9278ac7182",
   "metadata": {},
   "source": [
    "  "
   ]
  },
  {
   "cell_type": "markdown",
   "id": "10306b90-34e2-4f8f-b16f-dc56d3705f72",
   "metadata": {},
   "source": [
    "<h4>Q2. Define the different types of statistics and give an example of when each type might be used."
   ]
  },
  {
   "cell_type": "markdown",
   "id": "18b5c88d-9dcf-46c8-9b3d-0879cf0757b0",
   "metadata": {},
   "source": [
    "Answer: There are two kinds of Statistics, which are descriptive Statistics and inferential Statistics.\n",
    "\n",
    "Statistics is mainly divided into the following two categories. \n",
    "\n",
    "*Descriptive Statistics    *Inferential Statistics\n",
    "\n",
    ">Descriptive Statistics:-\n",
    "\n",
    "-In the descriptive Statistics, the Data is described in a summarized way. \n",
    "\n",
    "-The summarization is done from the sample of the population using different parameters like Mean or standard deviation.\n",
    "\n",
    "-Descriptive Statistics are a way of using charts, graphs, and summary measures to organize, represent, and explain a set of Data. \n",
    "\n",
    "-Data is typically arranged and displayed in tables or graphs summarizing details such as histograms, pie charts, bars or scatter plots.\n",
    "\n",
    "-Descriptive Statistics are just descriptive and thus do not require normalization beyond the Data collected.\n",
    "\n",
    "\n",
    ">Inferential Statistics\n",
    "\n",
    "In the Inferential Statistics, we try to interpret the Meaning of descriptive Statistics. After the Data has been collected, analyzed, and summarised we use Inferential Statistics to describe the Meaning of the collected Data. \n",
    "\n",
    "Inferential Statistics use the probability principle to assess whether trends contained in the research sample can be generalized to the larger population from which the sample originally comes.\n",
    "\n",
    "-Inferential Statistics are intended to test hypotheses and investigate relationships between variables and can be used to make population predictions.\n",
    "\n",
    "-Inferential Statistics are used to draw conclusions and inferences, i.e., to make valid generalizations from samples."
   ]
  },
  {
   "cell_type": "markdown",
   "id": "f2296b73-5d1d-4791-9f2b-8cbe962a97e8",
   "metadata": {},
   "source": [
    "  "
   ]
  },
  {
   "cell_type": "markdown",
   "id": "0cdf5a9c-d3c9-43ea-82ad-ebdd4c657d5d",
   "metadata": {},
   "source": [
    "<H4> Q3. What are the different types of data and how do they differ from each other? Provide an example of\n",
    "each type of data."
   ]
  },
  {
   "cell_type": "markdown",
   "id": "b56adcce-1836-4bbd-bc40-fd65e58939c5",
   "metadata": {},
   "source": [
    "Answer: In statistics, there are four main types of data: nominal, ordinal, interval, and ratio. These types of data are used to describe the nature of the data being collected or analyzed, and they help determine the appropriate statistical tests to use.\n",
    "\n",
    ">Nominal Data:\n",
    "\n",
    "-Nominal data is a type of data that consists of categories or names that cannot be ordered or ranked. \n",
    "\n",
    "-Nominal data is often used to categorize observations into groups, and the groups are not comparable. \n",
    "\n",
    "-Nominal data can be represented using frequency tables and bar charts, which display the number or proportion of observations in each category. For example, a frequency table for gender might show the number of males and females in a sample of people. A bar chart might display the proportions of males and females in the sample.\n",
    "\n",
    "-Nominal data is analyzed using non-parametric tests, which do not make any assumptions about the underlying distribution of the data. Common non-parametric tests for nominal data include chi-squared tests and Fisher’s exact tests. These tests are used to compare the frequency or proportion of observations in different categories.\n",
    "\n",
    "-Examples of nominal data include gender (male/female), race (White/Black/Asian), religion (Christianity/Islam/Judaism), and blood type (A/B/AB/O).\n",
    "\n",
    "\n",
    ">Ordinal Data:\n",
    "\n",
    "-Ordinal data is a type of data that consists of categories that can be ordered or ranked. However, the distance between categories is not necessarily equal. \n",
    "\n",
    "-Ordinal data is often used to measure subjective attributes or opinions, where there is a natural order to the responses. \n",
    "\n",
    "-Ordinal data can be represented using frequency tables, bar charts, or line charts. These displays show the order or ranking of the categories, but they do not imply that the distances between categories are equal.\n",
    "\n",
    "-Ordinal data is analyzed using non-parametric tests, which make no assumptions about the underlying distribution of the data. Common non-parametric tests for ordinal data include the Wilcoxon signed-rank test and the Mann-Whitney U test. These tests are used to compare the median or rank of observations in different categories.\n",
    "\n",
    "-Examples of ordinal data include education level (elementary/middle/high school/college), job position (manager/supervisor/employee), and Likert scales (strongly agree/agree/disagree/strongly disagree).\n",
    "\n",
    "\n",
    ">Interval Data:\n",
    "\n",
    "-Interval data is a type of data that consists of numerical values where the distance between each value is equal. However, there is no true zero point. \n",
    "\n",
    "-Interval data is often used to measure attributes such as temperature, dates, and time. \n",
    "\n",
    "-Examples of interval data include temperature (Celsius/Fahrenheit), dates (days/months/years), and time (hours/minutes/seconds).\n",
    "\n",
    "-Interval data can be represented using histograms, boxplots, or line charts. These displays show the range of the data and the frequency or proportion of observations at each value.\n",
    "\n",
    "-Interval data is analyzed using parametric tests, which assume that the underlying distribution of the data is normal or approximately normal. Common parametric tests for interval data include the t-test, ANOVA, and regression analysis. These tests are used to compare the means or variances of observations in different groups or to examine the relationship between variables.\n",
    "\n",
    "\n",
    ">Ratio Data:\n",
    "\n",
    "-Ratio data is a type of data that has a true zero point and an equal distance between each value. \n",
    "\n",
    "-Ratio data is considered the most informative type of data because it can be used to make meaningful comparisons and calculations. In addition, ratio data can be used to perform all types of statistical analyses.\n",
    "\n",
    "-Examples of ratio data include height (inches/centimeters), weight (pounds/kilograms), income (dollars), and distance (miles/kilometers). For instance, if someone’s height is 60 inches, it means that they are 5 feet tall, and if their height is 72 inches, it means that they are 6 feet tall. Moreover, if someone’s weight is 150 pounds, it means that they weigh 68 kilograms.\n",
    "\n",
    "-Ratio data can be represented using histograms, boxplots, or line charts. These displays show the range of the data and the frequency or proportion of observations at each value. \n",
    "\n",
    "-In addition, ratio data can be used to calculate various measures of central tendency, such as the mean, median, and mode, and measures of variability, such as range, variance, and standard deviation.\n",
    "\n",
    "Ratio data is analyzed using parametric tests, which assume that the underlying distribution of the data is normal or approximately normal. Common parametric tests for ratio data include the t-test, ANOVA, and regression analysis. These tests are used to compare the means or variances of observations in different groups or to examine the relationship between variables."
   ]
  },
  {
   "cell_type": "markdown",
   "id": "b8120fda-defe-4c7f-802b-d6e6b6a871fa",
   "metadata": {},
   "source": [
    "  "
   ]
  },
  {
   "cell_type": "markdown",
   "id": "a00962c7-899f-4738-95f2-2d9a4fae7ef6",
   "metadata": {},
   "source": [
    "<H4>Q4. Categorise the following datasets with respect to quantitative and qualitative data types:\n",
    "    \n",
    "    \n",
    "(i) Grading in exam: A+, A, B+, B, C+, C, D, E\n",
    "\n",
    "(ii) Colour of mangoes: yellow, green, orange, red\n",
    "\n",
    "(iii) Height data of a class: [178.9, 179, 179.5, 176, 177.2, 178.3, 175.8,...]\n",
    "\n",
    "(iv) Number of mangoes exported by a farm: [500, 600, 478, 672, ...]"
   ]
  },
  {
   "cell_type": "markdown",
   "id": "300f6a13-646e-4503-9d44-95c2a4578b1c",
   "metadata": {},
   "source": [
    "Answer: \n",
    "    \n",
    ">(i) Grading in exam: A+, A, B+, B, C+, C, D, E : Qualitative\n",
    "\n",
    ">(ii) Colour of mangoes: yellow, green, orange, red : Qualitative\n",
    "\n",
    ">(iii) Height data of a class: [178.9, 179, 179.5, 176, 177.2, 178.3, 175.8,...] : Quantitative\n",
    "\n",
    ">(iv) Number of mangoes exported by a farm: [500, 600, 478, 672, ...]: Quantitative"
   ]
  },
  {
   "cell_type": "markdown",
   "id": "c44e41f5-772d-49f1-8cfb-8371ba2fd92e",
   "metadata": {},
   "source": [
    "<H4>Q5. Explain the concept of levels of measurement and give an example of a variable for each level."
   ]
  },
  {
   "cell_type": "markdown",
   "id": "0576cae2-19ff-4380-bc88-9a32c4a185d9",
   "metadata": {},
   "source": [
    "Answer: Levels of measurement, also called scales of measurement, tell you how precisely variables are recorded. In scientific research, a variable is anything that can take on different values across your data set (e.g., height or test scores).\n",
    "\n",
    "There are 4 levels of measurement:\n",
    "\n",
    "*Nominal: the data can only be categorized. Example: City of birth, Gender, Ethnicity, Car brands, Marital status\n",
    "\n",
    "*Ordinal: the data can be categorized and ranked. Example: Top 5 Olympic medallists, Language ability (e.g., beginner, intermediate, fluent)\n",
    "\n",
    "*Interval: the data can be categorized, ranked, and evenly spaced. Example: Test scores (e.g., IQ or exams), Personality inventories,Temperature in Fahrenheit or Celsius\n",
    "\n",
    "*Ratio: the data can be categorized, ranked, evenly spaced, and has a natural zero. Example: Height, Age, Weight, Temperature in Kelvin\n",
    "\n",
    "Depending on the level of measurement of the variable, what you can do to analyze your data may be limited. There is a hierarchy in the complexity and precision of the level of measurement, from low (nominal) to high (ratio)."
   ]
  },
  {
   "cell_type": "markdown",
   "id": "db628557-4a04-45c5-8934-da7be2ae3b11",
   "metadata": {},
   "source": [
    "  "
   ]
  },
  {
   "cell_type": "markdown",
   "id": "9f5852df-000a-45e1-9772-df54945b3226",
   "metadata": {},
   "source": [
    "<h4> Q6. Why is it important to understand the level of measurement when analyzing data? Provide an\n",
    "example to illustrate your answer."
   ]
  },
  {
   "cell_type": "markdown",
   "id": "b0784b0a-5cd9-4137-b5a1-c0784805b0d1",
   "metadata": {},
   "source": [
    "Answer: It is important to understand the level of measurement of variables in research, because the level of measurement determines the type of statistical analysis that can be conducted, and, therefore, the type of conclusions that can be drawn from the research.\n",
    "\n",
    "For example: In a survey of boaters, one variable of interest was place of residence.  It was measured by a question on a questionnaire asking for the zip code of the boater's principal place of residence.  The observations were divided into zip code categories.  These categories are mutually exclusive and exhaustive.  All respondents live in one zip code category (exhaustive) but no boater lives in more than one zip code category (mutually exclusive).\n",
    "\n",
    "Similarly, the sex of the boater was determined by a question on the questionnaire.  Observations were sorted into two mutually exclusive and exhaustive categories, male and female.  Observations could be labeled with the letters M and F, or the numerals 0 and 1.\n",
    "\n",
    "The variable of marital status may be measured by two categories, married and unmarried.  But these must each be defined so that all possible observations will fit into one category but no more than one:  legally married, common-law marriage, religious marriage, civil marriage, living together, never married, divorced, informally separated, legally separated, widowed, abandoned, annulled, etc.\n",
    "\n",
    "In nominal measurement, all observations in one category are alike on some property, and they differ from the objects in the other category (or categories) on that property (e.g., zip code, sex).  There is no ordering of categories (no category is better or worse, or more or less than another)."
   ]
  },
  {
   "cell_type": "markdown",
   "id": "7b130315-3ef6-4d19-a620-ef82dbd4ef15",
   "metadata": {},
   "source": [
    "  "
   ]
  },
  {
   "cell_type": "markdown",
   "id": "54f00c72-dca9-451a-a122-76d48cc1a1ae",
   "metadata": {},
   "source": [
    "<h4>Q7. How nominal data type is different from ordinal data type."
   ]
  },
  {
   "cell_type": "markdown",
   "id": "e6609446-59c6-49e5-aa01-99ae8067212e",
   "metadata": {},
   "source": [
    "Answer:  The main differences between Nominal Data and Ordinal Data are:\n",
    "\n",
    "-While Nominal Data is classified without any intrinsic ordering or rank, Ordinal Data has some predetermined or natural order. \n",
    "\n",
    "-Nominal data is qualitative or categorical data, while Ordinal data is considered “in-between” qualitative and quantitative data.\n",
    "\n",
    "-Nominal data do not provide any quantitative value, and you cannot perform numeric operations with them or compare them with one another. However, Ordinal data provide sequence, and it is possible to assign numbers to the data. No numeric operations can be performed. But ordinal data makes it possible to compare one item with another in terms of ranking.  \n",
    "\n",
    "-Example of Nominal Data – Eye color, Gender; Example of Ordinal data – Customer Feedback, Economic Status"
   ]
  },
  {
   "cell_type": "markdown",
   "id": "352151bf-ec88-4b01-a731-80d19f6be832",
   "metadata": {},
   "source": [
    "  "
   ]
  },
  {
   "cell_type": "markdown",
   "id": "7ed106a5-e636-4747-a160-af5894dc6a66",
   "metadata": {},
   "source": [
    "<H4> Q8. Which type of plot can be used to display data in terms of range?"
   ]
  },
  {
   "cell_type": "markdown",
   "id": "7a752e25-6afb-4a32-a93b-507c17a298a0",
   "metadata": {},
   "source": [
    "Answer: Histogram. If the groups depicted in a bar chart are actually continuous numeric ranges, we can push the bars together to generate a histogram. Bar lengths in histograms typically correspond to counts of data points, and their patterns demonstrate the distribution of variables in your data."
   ]
  },
  {
   "cell_type": "markdown",
   "id": "20bc957c-dcc4-4ccb-a577-72043a8930c5",
   "metadata": {},
   "source": [
    "  "
   ]
  },
  {
   "cell_type": "markdown",
   "id": "6f883dbb-5dd9-4775-9b94-5b12c77f2cc4",
   "metadata": {},
   "source": [
    "<h4> Q9. Describe the difference between descriptive and inferential statistics. Give an example of each\n",
    "type of statistics and explain how they are used."
   ]
  },
  {
   "cell_type": "markdown",
   "id": "43d1418e-ccc0-4b98-bafb-aa6921695d3b",
   "metadata": {},
   "source": [
    "Answer: \n",
    "\n",
    ">Descriptive statistics:\n",
    "\n",
    "-Describe the features of populations and/or samples\n",
    "\n",
    "-Organize and present data in a purely factual way\n",
    "\n",
    "-Present final results visually, using tables, charts, or graphs\n",
    "\n",
    "-Draw conclusions based on known data\n",
    "\n",
    "-Use measures like central tendency, distribution, and variance\n",
    "\n",
    "-Example: For example, Mean, median, mode, standard deviation, range, frequency tables\n",
    "\n",
    ">Inferential statistics:\n",
    "\n",
    "-Use samples to make generalizations about larger populations\n",
    "\n",
    "-Help us to make estimates and predict future outcomes\n",
    "\n",
    "-Present final results in the form of probabilities\n",
    "\n",
    "-Draw conclusions that go beyond the available data\n",
    "\n",
    "-Use techniques like hypothesis testing, confidence intervals, and regression and correlation analysis\n",
    "\n",
    "-Example: Hypothesis testing, confidence intervals, regression analysis, ANOVA (analysis of variance), chi-square tests, t-tests, etc."
   ]
  },
  {
   "cell_type": "markdown",
   "id": "64aa829a-cf05-438a-a091-390d6b26216a",
   "metadata": {},
   "source": [
    " "
   ]
  },
  {
   "cell_type": "markdown",
   "id": "63ff73d8-5723-4e91-afec-1422bf21f692",
   "metadata": {},
   "source": [
    "<H4> Q10. What are some common measures of central tendency and variability used in statistics? Explain\n",
    "how each measure can be used to describe a dataset."
   ]
  },
  {
   "cell_type": "markdown",
   "id": "b44df3e5-9854-4fb5-91c9-5b09c42714d0",
   "metadata": {},
   "source": [
    "Answer: Measures of central tendency are summary statistics that represent the center point or typical value of a dataset. Examples of these measures include the mean, median, and mode. These statistics indicate where most values in a distribution fall and are also referred to as the central location of a distribution"
   ]
  },
  {
   "cell_type": "markdown",
   "id": "b3d769a6-699c-4c6b-bcd0-744e83016bad",
   "metadata": {},
   "source": [
    ">Mean\n",
    "\n",
    "The mean is the arithmetic average, and it is probably the measure of central tendency that you are most familiar. Calculating the mean is very simple. You just add up all of the values and divide by the number of observations in your dataset.\n",
    "\n",
    "The calculation of the mean incorporates all values in the data. If you change any value, the mean changes. However, the mean doesn’t always locate the center of the data accurately.\n",
    "\n",
    ">Median\n",
    "\n",
    "The median is the middle value. It is the value that splits the dataset in half, making it a natural measure of central tendency.\n",
    "\n",
    "To find the median, order your data from smallest to largest, and then find the data point that has an equal number of values above it and below it. The method for locating the median varies slightly depending on whether your dataset has an even or odd number of values\n",
    "\n",
    ">Mode\n",
    "\n",
    "The mode is the value that occurs the most frequently in your data set, making it a different type of measure of central tendency than the mean or median.\n",
    "\n",
    "To find the mode, sort the values in your dataset by numeric values or by categories. Then identify the value that occurs most often.\n",
    "\n",
    "On a bar chart, the mode is the highest bar. If the data have multiple values that are tied for occurring the most frequently, you have a multimodal distribution. If no value repeats, the data do not have a mode."
   ]
  },
  {
   "cell_type": "code",
   "execution_count": null,
   "id": "9982afd7-837c-4ce0-9984-3a7d108a90b9",
   "metadata": {},
   "outputs": [],
   "source": []
  }
 ],
 "metadata": {
  "kernelspec": {
   "display_name": "Python 3 (ipykernel)",
   "language": "python",
   "name": "python3"
  },
  "language_info": {
   "codemirror_mode": {
    "name": "ipython",
    "version": 3
   },
   "file_extension": ".py",
   "mimetype": "text/x-python",
   "name": "python",
   "nbconvert_exporter": "python",
   "pygments_lexer": "ipython3",
   "version": "3.10.8"
  }
 },
 "nbformat": 4,
 "nbformat_minor": 5
}
