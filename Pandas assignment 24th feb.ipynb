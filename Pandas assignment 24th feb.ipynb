{
 "cells": [
  {
   "cell_type": "markdown",
   "id": "8bbe304c-11fb-489e-b589-8c9351edf4b6",
   "metadata": {},
   "source": [
    "Q1. List any five functions of the pandas library with execution."
   ]
  },
  {
   "cell_type": "raw",
   "id": "09cfbcf8-1242-4104-acff-7e1772f054a1",
   "metadata": {},
   "source": [
    "1. read_csv( )\n",
    "read_csv() function helps read a comma - separated values (csv) file into a Pandas Data Frame .\n",
    "\n",
    "2. head( )\n",
    "head(n) is used to return the first n rows of a data set . By default , df . head() will return the first 5 rows of the Data Frame . If you want more / less number of rows , you can specify n as an integer .\n",
    "\n",
    "3. describe( )\n",
    "describe () is used to generate descriptive statistics of the data in a Pandas Data Frame or Series . It summarizes central tendency and dispersion of the dataset .\n",
    "\n",
    "4. memory_usage ()\n",
    "memory_usage () returns a Pandas Series having the memory usage of each column (in bytes) in a Pandas Data Frame.\n",
    "\n",
    "5. loc[:]\n",
    "loc[:] helps to access a group of rows and columns in a data set , aslice of the dataset , as per our requirement . For instance , if we only want the last 2 rows and the first 3 columns of a dataset , we can access them with the help of loc [:]."
   ]
  },
  {
   "cell_type": "markdown",
   "id": "6afe1058-61c7-4988-8a3b-6242e59eddeb",
   "metadata": {},
   "source": [
    "Q2. Given a Pandas DataFrame df with columns 'A', 'B', and 'C', write a Python function to re-index the\n",
    "DataFrame with a new index that starts from 1 and increments by 2 for each row."
   ]
  },
  {
   "cell_type": "code",
   "execution_count": 5,
   "id": "758d6537-5423-4b5b-95ce-39c101d8c511",
   "metadata": {},
   "outputs": [],
   "source": [
    "def reindex_df (df) :\n",
    "    new_index = range ( 1, 2*len( df )+1,2)\n",
    "    new_df = df.set_index(pd.Index( new_index))\n",
    "    return new_df"
   ]
  },
  {
   "cell_type": "markdown",
   "id": "7afa65b5-9d11-4c6f-8c63-93a4596794ce",
   "metadata": {},
   "source": [
    "Q3. You have a Pandas DataFrame df with a column named 'Values'. Write a Python function that\n",
    "iterates over the DataFrame and calculates the sum of the first three values in the 'Values' column. The\n",
    "function should print the sum to the console.\n",
    "\n",
    "For example, if the 'Values' column of df contains the values [10, 20, 30, 40, 50], your function should\n",
    "calculate and print the sum of the first three values, which is 60."
   ]
  },
  {
   "cell_type": "code",
   "execution_count": 14,
   "id": "d8ff1c99-861c-4735-83bf-288a3b4b5312",
   "metadata": {},
   "outputs": [
    {
     "name": "stdout",
     "output_type": "stream",
     "text": [
      "   Column\n",
      "0      10\n",
      "1      20\n",
      "2      30\n",
      "3      40\n",
      "4      50\n",
      "60\n"
     ]
    }
   ],
   "source": [
    "import pandas as pd\n",
    "data = {\"Column\" : [ 10, 20, 30, 40, 50]}\n",
    "df = pd.DataFrame (data)\n",
    "print(df)\n",
    "Sum = df.Column[0:3].sum()\n",
    "print(Sum)"
   ]
  },
  {
   "cell_type": "markdown",
   "id": "79be7a94-adee-4b85-807c-2f8742415185",
   "metadata": {},
   "source": [
    "Q4. Given a Pandas DataFrame df with a column 'Text', write a Python function to create a new column 'Word_Count' that contains the number of words in each row of the 'Text' column."
   ]
  },
  {
   "cell_type": "code",
   "execution_count": 15,
   "id": "e4f851f7-d464-4549-ac56-3b44466df57c",
   "metadata": {},
   "outputs": [
    {
     "name": "stdout",
     "output_type": "stream",
     "text": [
      "                 Text  Word_Count\n",
      "0        Data Science          12\n",
      "1              Python           7\n",
      "2   Pandas DataFrame           18\n",
      "3                   C           1\n",
      "4                Java           4\n",
      "5    Machine Learning          16\n"
     ]
    }
   ],
   "source": [
    "df = pd.DataFrame( {'Text' : ['Data Science' , ' Python' , ' Pandas DataFrame ' , 'C' , 'Java' , 'Machine Learning' ] })\n",
    "df [ 'Word_Count' ] = df [ 'Text' ] . apply(len)\n",
    "print(df)"
   ]
  },
  {
   "cell_type": "markdown",
   "id": "c702c3cf-20c9-4fbc-bd78-9cd6f16839ca",
   "metadata": {},
   "source": [
    "Q5. How are DataFrame.size() and DataFrame.shape() different?"
   ]
  },
  {
   "cell_type": "raw",
   "id": "5feef749-80ab-4604-9f64-452fcc5809bd",
   "metadata": {},
   "source": [
    "* DataFrame.size ()\n",
    "The size property is used to get an int representing the number of elements in this object and Return the number of rows if Series.\n",
    "Otherwise , return the number of rows times the number of columns if Dataframe .\n",
    "\n",
    "*DataFrame.shape ()\n",
    "The shape property is used to get a tuple representing the dimensionality of the Pandas DataFrame ."
   ]
  },
  {
   "cell_type": "markdown",
   "id": "69d2cf80-ff95-4d51-8c21-ec4e6dea446c",
   "metadata": {},
   "source": [
    "Q6. Which function of pandas do we use to read an excel file?"
   ]
  },
  {
   "cell_type": "raw",
   "id": "84547963-b823-4afe-9cc4-49a5771529db",
   "metadata": {},
   "source": [
    "Answer : Pandas read_excel() function is used for reading the Excel files ."
   ]
  },
  {
   "cell_type": "markdown",
   "id": "e9d4f73e-cdb5-4f9c-b14e-f7b18ad45ac5",
   "metadata": {},
   "source": [
    "Q7. You have a Pandas DataFrame df that contains a column named 'Email' that contains email\n",
    "addresses in the format 'username@domain.com'. Write a Python function that creates a new column\n",
    "'Username' in df that contains only the username part of each email address.\n",
    "\n",
    "The username is the part of the email address that appears before the '@' symbol. For example, if the\n",
    "email address is 'john.doe@example.com', the 'Username' column should contain 'john.doe'. Your\n",
    "function should extract the username from each email address and store it in the new 'Username'\n",
    "column."
   ]
  },
  {
   "cell_type": "code",
   "execution_count": 20,
   "id": "bca01335-beaa-4226-8bc9-bb2ee831044f",
   "metadata": {},
   "outputs": [
    {
     "data": {
      "text/html": [
       "<div>\n",
       "<style scoped>\n",
       "    .dataframe tbody tr th:only-of-type {\n",
       "        vertical-align: middle;\n",
       "    }\n",
       "\n",
       "    .dataframe tbody tr th {\n",
       "        vertical-align: top;\n",
       "    }\n",
       "\n",
       "    .dataframe thead th {\n",
       "        text-align: right;\n",
       "    }\n",
       "</style>\n",
       "<table border=\"1\" class=\"dataframe\">\n",
       "  <thead>\n",
       "    <tr style=\"text-align: right;\">\n",
       "      <th></th>\n",
       "      <th>Email</th>\n",
       "      <th>Username</th>\n",
       "    </tr>\n",
       "  </thead>\n",
       "  <tbody>\n",
       "    <tr>\n",
       "      <th>0</th>\n",
       "      <td>joe@gmail.com</td>\n",
       "      <td>joe</td>\n",
       "    </tr>\n",
       "    <tr>\n",
       "      <th>1</th>\n",
       "      <td>roger@nasa.com</td>\n",
       "      <td>roger</td>\n",
       "    </tr>\n",
       "    <tr>\n",
       "      <th>2</th>\n",
       "      <td>detas@uncouncil.com</td>\n",
       "      <td>detas</td>\n",
       "    </tr>\n",
       "    <tr>\n",
       "      <th>3</th>\n",
       "      <td>robert@pandas.com</td>\n",
       "      <td>robert</td>\n",
       "    </tr>\n",
       "    <tr>\n",
       "      <th>4</th>\n",
       "      <td>Jenny@uk.org</td>\n",
       "      <td>Jenny</td>\n",
       "    </tr>\n",
       "    <tr>\n",
       "      <th>5</th>\n",
       "      <td>michelle.clark@nypd.net</td>\n",
       "      <td>michelle.clark</td>\n",
       "    </tr>\n",
       "  </tbody>\n",
       "</table>\n",
       "</div>"
      ],
      "text/plain": [
       "                      Email        Username\n",
       "0             joe@gmail.com             joe\n",
       "1            roger@nasa.com           roger\n",
       "2       detas@uncouncil.com           detas\n",
       "3         robert@pandas.com          robert\n",
       "4              Jenny@uk.org           Jenny\n",
       "5  michelle.clark@nypd.net   michelle.clark"
      ]
     },
     "execution_count": 20,
     "metadata": {},
     "output_type": "execute_result"
    }
   ],
   "source": [
    "import pandas as pd\n",
    "df =pd.DataFrame ( {\"Email\" : [ \"joe@gmail.com\" , \"roger@nasa.com\" , \"detas@uncouncil.com\" , \"robert@pandas.com\" , \"Jenny@uk.org\" , \"michelle.clark@nypd.net \" ] })\n",
    "df['Username'] = df['Email'].str.split('@',expand=True) [0]\n",
    "df"
   ]
  },
  {
   "cell_type": "raw",
   "id": "052200eb-33a7-4e3c-8cd3-463fd0e7bdbf",
   "metadata": {},
   "source": [
    "Q8. You have a Pandas DataFrame df with columns 'A', 'B', and 'C'. Write a Python function that selects\n",
    "all rows where the value in column 'A' is greater than 5 and the value in column 'B' is less than 10. The\n",
    "function should return a new DataFrame that contains only the selected rows.\\\n",
    "\n",
    "For example, if df contains the following values:\n",
    "\n",
    "A B C\n",
    "0 3 5 1\n",
    "1 8 2 7\n",
    "2 6 9 4\n",
    "3 2 3 5\n",
    "4 9 1 2\n",
    "\n",
    "Your function should select the following rows: A B C\n",
    "1 8 2 7\n",
    "4 9 1 2\n",
    "The function should return a new DataFrame that contains only the selected rows."
   ]
  },
  {
   "cell_type": "code",
   "execution_count": 21,
   "id": "1994c435-698a-4038-89e0-c95ed5df38c8",
   "metadata": {},
   "outputs": [
    {
     "name": "stdout",
     "output_type": "stream",
     "text": [
      "   A  B  C\n",
      "0  3  5  1\n",
      "1  8  2  7\n",
      "2  6  9  4\n",
      "3  2  3  5\n",
      "4  9  1  2\n"
     ]
    },
    {
     "data": {
      "text/html": [
       "<div>\n",
       "<style scoped>\n",
       "    .dataframe tbody tr th:only-of-type {\n",
       "        vertical-align: middle;\n",
       "    }\n",
       "\n",
       "    .dataframe tbody tr th {\n",
       "        vertical-align: top;\n",
       "    }\n",
       "\n",
       "    .dataframe thead th {\n",
       "        text-align: right;\n",
       "    }\n",
       "</style>\n",
       "<table border=\"1\" class=\"dataframe\">\n",
       "  <thead>\n",
       "    <tr style=\"text-align: right;\">\n",
       "      <th></th>\n",
       "      <th>A</th>\n",
       "      <th>B</th>\n",
       "      <th>C</th>\n",
       "    </tr>\n",
       "  </thead>\n",
       "  <tbody>\n",
       "    <tr>\n",
       "      <th>1</th>\n",
       "      <td>8</td>\n",
       "      <td>2</td>\n",
       "      <td>7</td>\n",
       "    </tr>\n",
       "    <tr>\n",
       "      <th>4</th>\n",
       "      <td>9</td>\n",
       "      <td>1</td>\n",
       "      <td>2</td>\n",
       "    </tr>\n",
       "  </tbody>\n",
       "</table>\n",
       "</div>"
      ],
      "text/plain": [
       "   A  B  C\n",
       "1  8  2  7\n",
       "4  9  1  2"
      ]
     },
     "execution_count": 21,
     "metadata": {},
     "output_type": "execute_result"
    }
   ],
   "source": [
    "import pandas as pd\n",
    "data ={'A' : [ '3' , '8' , '6' , '2' , '9' ] ,'B' : [ '5' , '2', '9' , '3' , '1' ] ,'C' : [ '1' , '7' , '4' , '5' , '2' ]}\n",
    "df =pd.DataFrame(data)\n",
    "print(df)\n",
    "SelectRow=df[df['A']>'7']\n",
    "SelectRow"
   ]
  },
  {
   "cell_type": "markdown",
   "id": "c8997dff-dd79-4754-8cde-a091dfa761a5",
   "metadata": {},
   "source": [
    "Q9. Given a Pandas DataFrame df with a column 'Values', write a Python function to calculate the mean,\n",
    "median, and standard deviation of the values in the 'Values' column."
   ]
  },
  {
   "cell_type": "code",
   "execution_count": 22,
   "id": "15f7dd5e-1731-46cc-8619-df59b60233ff",
   "metadata": {},
   "outputs": [
    {
     "name": "stdout",
     "output_type": "stream",
     "text": [
      "   Values\n",
      "0      10\n",
      "1      20\n",
      "2      30\n",
      "3      40\n",
      "4      50\n",
      "5      60\n",
      "6      70\n",
      "7      80\n",
      "8      90\n",
      "9     100\n",
      "Mean= Values    55.0\n",
      "dtype: float64\n",
      "Median= Values    55.0\n",
      "dtype: float64\n",
      "Standard deviation = Values    30.276504\n",
      "dtype: float64\n"
     ]
    }
   ],
   "source": [
    "import pandas as pd\n",
    "data ={'Values' : [ 10, 20, 30, 40, 50, 60, 70, 80, 90, 100],}\n",
    "df =pd.DataFrame(data)\n",
    "print(df)\n",
    "Mean=df.mean()\n",
    "Median=df.median()\n",
    "Std=df.std()\n",
    "print(\"Mean=\",Mean)\n",
    "print( \"Median=\",Median)\n",
    "print (\"Standard deviation =\" , Std)"
   ]
  },
  {
   "cell_type": "markdown",
   "id": "3fb26ac4-29d8-4191-a67b-bdddae3b295b",
   "metadata": {},
   "source": [
    "Q10. Given a Pandas DataFrame df with a column 'Sales' and a column 'Date', write a Python function to create a new column 'MovingAverage' that contains the moving average of the sales for the past 7 days for each row in the DataFrame. The moving average should be calculated using a window of size 7 and should include the current day."
   ]
  },
  {
   "cell_type": "code",
   "execution_count": 23,
   "id": "af838441-74fc-4bc5-9a40-7fb97e131790",
   "metadata": {},
   "outputs": [
    {
     "name": "stdout",
     "output_type": "stream",
     "text": [
      "       Date  Sales  MovingAverage\n",
      "0  1st July     10      10.000000\n",
      "1  2nd July     20      15.000000\n",
      "2  3rd July     50      26.666667\n",
      "3  4th July     30      27.500000\n",
      "4  5th July     55      33.000000\n",
      "5  6th July     65      38.333333\n",
      "6  7th July     25      36.428571\n"
     ]
    }
   ],
   "source": [
    "import pandas as pd\n",
    "data ={'Date' : [ \"1st July\" , \"2nd July\" , \"3rd July\" , \"4th July\", \"5th July\", \"6th July\", \"7th July\"] ,\"Sales\" : [ 10, 20, 50, 30, 55, 65, 25]}\n",
    "df=pd.DataFrame(data)\n",
    "df['MovingAverage'] = df ['Sales'].rolling(window=7, min_periods=1).mean()\n",
    "print(df)"
   ]
  },
  {
   "cell_type": "raw",
   "id": "9579b744-ec1c-4487-bedd-3a96531246f4",
   "metadata": {},
   "source": [
    "Q11. You have a Pandas DataFrame df with a column 'Date'. Write a Python function that creates a new column 'Weekday' in the DataFrame. The 'Weekday' column should contain the weekday name (e.g. Monday, Tuesday) corresponding to each date in the 'Date' column.\n",
    "\n",
    "For example, if df contains the following values:\n",
    "Date\n",
    "0 2023-01-01\n",
    "1 2023-01-02\n",
    "2 2023-01-03\n",
    "3 2023-01-04\n",
    "4 2023-01-05\n",
    "\n",
    "Your function should create the following DataFrame:\n",
    "\n",
    "Date Weekday\n",
    "0 2023-01-01 Sunday\n",
    "1 2023-01-02 Monday\n",
    "2 2023-01-03 Tuesday\n",
    "3 2023-01-04 Wednesday\n",
    "4 2023-01-05 Thursday\n",
    "The function should return the modified DataFrame."
   ]
  },
  {
   "cell_type": "code",
   "execution_count": 24,
   "id": "7760d1a2-5b0e-4c6e-b031-68b2d00f6b4b",
   "metadata": {},
   "outputs": [
    {
     "name": "stdout",
     "output_type": "stream",
     "text": [
      "         Date\n",
      "0  2023-01-01\n",
      "1  2023-01-02\n",
      "2  2023-01-03\n",
      "3  2023-01-04\n",
      "4  2023-01-05\n",
      "        Date    WeekDay\n",
      "0 2023-01-01     Sunday\n",
      "1 2023-01-02     Monday\n",
      "2 2023-01-03    Tuesday\n",
      "3 2023-01-04  Wednesday\n",
      "4 2023-01-05   Thursday\n"
     ]
    }
   ],
   "source": [
    "import pandas as pd\n",
    "data={'Date' : [ '2023-01-01' , '2023-01-02' , '2023-01-03' , '2023-01-04' , '2023-01-05']}\n",
    "df=pd.DataFrame(data)\n",
    "print(df)\n",
    "df['Date']=pd.to_datetime(df['Date'])\n",
    "df['WeekDay']= df['Date'].dt.day_name()\n",
    "print(df)"
   ]
  },
  {
   "cell_type": "markdown",
   "id": "2f3d051e-096e-4881-b8d0-ed6586d98ca7",
   "metadata": {},
   "source": [
    "Q12. Given a Pandas DataFrame df with a column 'Date' that contains timestamps, write a Python function to select all rows where the date is between '2023-01-01' and '2023-01-31'."
   ]
  },
  {
   "cell_type": "code",
   "execution_count": null,
   "id": "2e63ece2-5a9d-46e9-930b-cc3f9a0bf478",
   "metadata": {},
   "outputs": [],
   "source": [
    "def select_dates_between( df ) :\n",
    "    start_date=[\"2023-01-01\"]\n",
    "    end_date = [\"2023-01-31\"]\n",
    "    mask=(df['Date']>= start_date)&(df['Date']<=end_date)\n",
    "    selected_df= df.loc[mask]\n",
    "    return selected_df\n",
    "select_dates_between(data)"
   ]
  },
  {
   "cell_type": "markdown",
   "id": "627c4eda-8cfc-4bd2-86e6-f36620e0af3f",
   "metadata": {},
   "source": [
    "Q13. To use the basic functions of pandas, what is the first and foremost necessary library that needs to\n",
    "be imported?"
   ]
  },
  {
   "cell_type": "code",
   "execution_count": null,
   "id": "1f62c8a2-40b6-478c-9670-a63653ce74d6",
   "metadata": {},
   "outputs": [],
   "source": []
  }
 ],
 "metadata": {
  "kernelspec": {
   "display_name": "Python 3 (ipykernel)",
   "language": "python",
   "name": "python3"
  },
  "language_info": {
   "codemirror_mode": {
    "name": "ipython",
    "version": 3
   },
   "file_extension": ".py",
   "mimetype": "text/x-python",
   "name": "python",
   "nbconvert_exporter": "python",
   "pygments_lexer": "ipython3",
   "version": "3.10.8"
  }
 },
 "nbformat": 4,
 "nbformat_minor": 5
}
