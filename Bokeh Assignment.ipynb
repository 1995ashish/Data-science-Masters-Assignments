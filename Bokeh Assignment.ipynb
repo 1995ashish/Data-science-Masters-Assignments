{
 "cells": [
  {
   "cell_type": "markdown",
   "id": "ec81983b-0662-49c0-8120-b8966b040f8b",
   "metadata": {},
   "source": [
    "Q1. How can you create a Bokeh plot using Python code?"
   ]
  },
  {
   "cell_type": "markdown",
   "id": "8401308b-2c28-47d0-8a23-4a53d4a803fa",
   "metadata": {},
   "source": [
    " "
   ]
  },
  {
   "cell_type": "markdown",
   "id": "55854312-f757-478f-98d4-50fbe1204a03",
   "metadata": {},
   "source": [
    "Answer:    \n",
    "\n",
    "Python Bokeh is a Data Visualization library that provides interactive charts and plots. Bokeh renders its plots using HTML and JavaScript that uses modern web browsers for presenting elegant, concise construction of novel graphics with high-level interactivity. \n",
    "\n",
    "Bokeh is supported by CPython 3.6 and older with both standard distribution and anaconda distribution. \n",
    "\n",
    "Bokeh can be installed using both conda package manager and pip. To install it using conda type the below command in the terminal.\n",
    "\n",
    "conda install bokeh\n",
    "\n",
    "This will install all the dependencies. If all the dependencies are installed then you can install the bokeh from PyPI using pip. Type the below command in the terminal.\n",
    "\n",
    "pip install bokeh\n",
    "\n",
    "It can be used in Python using the below Python code: "
   ]
  },
  {
   "cell_type": "code",
   "execution_count": 6,
   "id": "2811a0b5-9a9c-418b-bd58-4527737c1983",
   "metadata": {},
   "outputs": [
    {
     "name": "stdout",
     "output_type": "stream",
     "text": [
      "Requirement already satisfied: bokeh in /opt/conda/lib/python3.10/site-packages (3.0.3)\n",
      "Requirement already satisfied: tornado>=5.1 in /opt/conda/lib/python3.10/site-packages (from bokeh) (6.1)\n",
      "Requirement already satisfied: packaging>=16.8 in /opt/conda/lib/python3.10/site-packages (from bokeh) (22.0)\n",
      "Requirement already satisfied: PyYAML>=3.10 in /opt/conda/lib/python3.10/site-packages (from bokeh) (6.0)\n",
      "Requirement already satisfied: Jinja2>=2.9 in /opt/conda/lib/python3.10/site-packages (from bokeh) (3.1.2)\n",
      "Requirement already satisfied: numpy>=1.11.3 in /opt/conda/lib/python3.10/site-packages (from bokeh) (1.23.5)\n",
      "Requirement already satisfied: contourpy>=1 in /opt/conda/lib/python3.10/site-packages (from bokeh) (1.0.6)\n",
      "Requirement already satisfied: pillow>=7.1.0 in /opt/conda/lib/python3.10/site-packages (from bokeh) (9.2.0)\n",
      "Requirement already satisfied: pandas>=1.2 in /opt/conda/lib/python3.10/site-packages (from bokeh) (1.5.2)\n",
      "Requirement already satisfied: xyzservices>=2021.09.1 in /opt/conda/lib/python3.10/site-packages (from bokeh) (2022.9.0)\n",
      "Requirement already satisfied: MarkupSafe>=2.0 in /opt/conda/lib/python3.10/site-packages (from Jinja2>=2.9->bokeh) (2.1.1)\n",
      "Requirement already satisfied: python-dateutil>=2.8.1 in /opt/conda/lib/python3.10/site-packages (from pandas>=1.2->bokeh) (2.8.2)\n",
      "Requirement already satisfied: pytz>=2020.1 in /opt/conda/lib/python3.10/site-packages (from pandas>=1.2->bokeh) (2022.6)\n",
      "Requirement already satisfied: six>=1.5 in /opt/conda/lib/python3.10/site-packages (from python-dateutil>=2.8.1->pandas>=1.2->bokeh) (1.16.0)\n",
      "Note: you may need to restart the kernel to use updated packages.\n"
     ]
    }
   ],
   "source": [
    "pip install bokeh"
   ]
  },
  {
   "cell_type": "code",
   "execution_count": 2,
   "id": "010ccaad-7cf8-4f58-bdc8-4a58a73bb3e5",
   "metadata": {},
   "outputs": [],
   "source": [
    "from bokeh.plotting import figure, output_file, show"
   ]
  },
  {
   "cell_type": "code",
   "execution_count": 3,
   "id": "85b4e150-69f8-47d8-8d11-bc092b42453b",
   "metadata": {},
   "outputs": [],
   "source": [
    "graph = figure(title = \"Bokeh Line Graph\") \n",
    "x = [1, 2, 3, 4, 5] \n",
    "y = [5, 4, 3, 2, 1] "
   ]
  },
  {
   "cell_type": "code",
   "execution_count": 9,
   "id": "b249e0e9-1e2f-48b3-a6c8-3bc994c0880b",
   "metadata": {},
   "outputs": [],
   "source": [
    "graph.line(x, y)\n",
    "show(graph)"
   ]
  },
  {
   "cell_type": "markdown",
   "id": "a469491e-d312-47db-a5fb-5475c4458739",
   "metadata": {},
   "source": [
    "   "
   ]
  },
  {
   "cell_type": "markdown",
   "id": "6ceb9d85-fa0a-4ec2-9ba1-2f7a0301de66",
   "metadata": {},
   "source": [
    "Q2. What are glyphs in Bokeh, and how can you add them to a Bokeh plot? Explain with an example."
   ]
  },
  {
   "cell_type": "markdown",
   "id": "69587b0b-9950-4e45-bbdf-87e9ee58c183",
   "metadata": {},
   "source": [
    "  "
   ]
  },
  {
   "cell_type": "markdown",
   "id": "e81600cb-c947-4630-bf89-f87d04e15a4a",
   "metadata": {},
   "source": [
    "Answer:  Glyphs are the building blocks of Bokeh visualizations. A glyph is a vectorized graphical shape or marker that is used to represent your data. They can be a marker—shapes like circles, diamonds, squares, and triangles."
   ]
  },
  {
   "cell_type": "code",
   "execution_count": 13,
   "id": "a6a6b346-b64e-4f20-84c5-53ccc45d7a04",
   "metadata": {},
   "outputs": [],
   "source": [
    "from bokeh.plotting import figure, show, output_file\n",
    " \n",
    "a = [1, 2, 3, 4, 5, 6, 7, 8, 9, 10]\n",
    "b = [2, 4, 6, 8, 10, 12, 14, 16, 18, 20]\n",
    " \n",
    "my_plot = figure(title=\"simple line chart\", x_axis_label=\"X-Axis\",\n",
    "                 y_axis_label=\"Y-Axis\")\n",
    " \n",
    "my_plot.line (a, b, line_width=3)\n",
    " \n",
    "output_file(\"line.html\")\n",
    "\n",
    "show(my_plot)"
   ]
  },
  {
   "cell_type": "markdown",
   "id": "9dbeb52d-ac01-408a-bf7d-f0f053ac6c34",
   "metadata": {},
   "source": [
    "   "
   ]
  },
  {
   "cell_type": "markdown",
   "id": "10ea71f3-e43e-4ab4-8178-9f61c7374883",
   "metadata": {},
   "source": [
    "Q3. How can you customize the appearance of a Bokeh plot, including the axes, title, and legend?"
   ]
  },
  {
   "cell_type": "markdown",
   "id": "c7f26113-a649-4e4d-a183-3bac3cfa1978",
   "metadata": {},
   "source": [
    "Answer:\n",
    "\n",
    "The various attributes to change the way the axes in plot looks include:\n",
    "\n",
    "*setting labels for your axes\n",
    "\n",
    "*styling the numbers displayed with your axes\n",
    "\n",
    "*defining colors and other layout properties for the axes themselves.\n",
    "\n",
    "\n",
    "The legend of a graph reflects the data displayed in the graph’s Y-axis. In Bokeh, the legends correspond to glyphs. This article how Legends appearing in the bokeh plot can be customized.\n",
    "We can customize the legend with its several attributes such as location, color, line-color, font-size, font-style line width. We can modify it using the legend attribute with the required property name. \n",
    "\n",
    "Syntax : legend.property_name=value"
   ]
  },
  {
   "cell_type": "markdown",
   "id": "51e59e2e-f6c6-4b1f-b59a-968bb39886d7",
   "metadata": {},
   "source": [
    " "
   ]
  },
  {
   "cell_type": "markdown",
   "id": "0931883b-155e-469d-ab1f-36f8888dc6ba",
   "metadata": {},
   "source": [
    "Q4. What is a Bokeh server, and how can you use it to create interactive plots that can be updated in\n",
    "real time?"
   ]
  },
  {
   "cell_type": "markdown",
   "id": "79e595a7-42ac-4124-8f5f-9df24f97ce1c",
   "metadata": {},
   "source": [
    "  "
   ]
  },
  {
   "cell_type": "markdown",
   "id": "ada876f3-2e38-42b1-900c-569f3c428a1e",
   "metadata": {},
   "source": [
    "Answer: Bokeh server makes it easy to create interactive web applications that connect front-end UI events to running Python code. Bokeh creates high-level Python models, such as plots, ranges, axes, and glyphs, and then converts these objects to JSON to pass them to its client library, BokehJS.\n",
    "\n",
    "it automatically assembles plots with default elements such as axes, grids, and tools for you."
   ]
  },
  {
   "cell_type": "markdown",
   "id": "7e14368f-4549-4a85-93d1-f9210666205e",
   "metadata": {},
   "source": [
    " "
   ]
  },
  {
   "cell_type": "markdown",
   "id": "b5fc5181-2336-44a0-bbb7-aeef9ca5da46",
   "metadata": {},
   "source": [
    "Q5. How can you embed a Bokeh plot into a web page or dashboard using Flask or Django?"
   ]
  },
  {
   "cell_type": "markdown",
   "id": "ccaf6ef1-4262-43c3-ad15-976031f2b718",
   "metadata": {},
   "source": [
    "Answer: This can be accomplished with the server_document() function. It accepts the URL to a Bokeh server application, and returns a script that will embed new sessions from that server any time the script is executed. The server_document() function accepts URL parameter."
   ]
  },
  {
   "cell_type": "code",
   "execution_count": null,
   "id": "fa19ea74-7218-448c-bbf7-b650aca53f07",
   "metadata": {},
   "outputs": [],
   "source": []
  }
 ],
 "metadata": {
  "kernelspec": {
   "display_name": "Python 3 (ipykernel)",
   "language": "python",
   "name": "python3"
  },
  "language_info": {
   "codemirror_mode": {
    "name": "ipython",
    "version": 3
   },
   "file_extension": ".py",
   "mimetype": "text/x-python",
   "name": "python",
   "nbconvert_exporter": "python",
   "pygments_lexer": "ipython3",
   "version": "3.10.8"
  }
 },
 "nbformat": 4,
 "nbformat_minor": 5
}
